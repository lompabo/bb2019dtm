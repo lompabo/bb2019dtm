{
 "cells": [
  {
   "cell_type": "markdown",
   "metadata": {},
   "source": [
    "# Machine Learning for Language Recognition"
   ]
  },
  {
   "cell_type": "markdown",
   "metadata": {},
   "source": [
    "## The Actual Exercise\n",
    "\n",
    "So, here we are: ready to start solving the problem for real.\n",
    "\n",
    "Your task will be to edit the code for extracting the features, removing those that are not particularly useful (most of the ones that are currenlty there) and adding new features that are useful. With a little bit of imagination you will be able to reach substantialy better accuracy levels.\n",
    "\n",
    "Some suggestions:\n",
    "\n",
    "* The area of the code where you should work is clearly highlighted: keep the rest of the code as it is to make your life simpler.\n",
    "* The confusion matrix tells you where the trouble is: use it to guide the generation of new features. If you have difficulties with French and Italian, you should compute a feature for which the two language have (intuitively) significantly different values.\n",
    "* Use the current features as examples: they can really help you with writing code. If you have any problem, do not hesitate to call me.\n",
    "* Googling is allowed, but make an effort to think i bit, first! That's the whole point, after all.\n",
    "\n",
    "Here comes the entire script, the code is split in three main cells:\n",
    "\n",
    "1. The first cell loads the data and extracts the features\n",
    "2. The second cell performs normalization, categorical encoding, training and evaluation\n",
    "\n",
    "Between the first and the second cell it may be a good idea to inspect the features that you have generated.\n",
    "\n",
    "Whenever you change your feature set, you can just run the two cells again and obtain new results.\n",
    "\n",
    "When you find a decently working setup, it's usually a good idea to save it somewhere: copying the text in another cell may be a simple and effective approach. "
   ]
  },
  {
   "cell_type": "code",
   "execution_count": 2,
   "metadata": {},
   "outputs": [
    {
     "name": "stderr",
     "output_type": "stream",
     "text": [
      "/usr/local/lib/python2.7/site-packages/ipykernel_launcher.py:54: UnicodeWarning: Unicode equal comparison failed to convert both arguments to Unicode - interpreting them as being unequal\n"
     ]
    }
   ],
   "source": [
    "# ==================================================================\n",
    "# LOAD DATA AND EXTRACT FEATURES\n",
    "# ==================================================================\n",
    "\n",
    "import numpy as np\n",
    "import lutil\n",
    "\n",
    "# Load the training data\n",
    "text_train, lang_train = lutil.load_lr_data('lr_train.txt')\n",
    "# Load the test data\n",
    "text_test, lang_test = lutil.load_lr_data('lr_test.txt')\n",
    "\n",
    "# Notable sets of characters\n",
    "common_alphabet = ['(', '«', ',', '0', '4', '8', '»', 'D', 'H', 'L', 'P', 'T', 'X', 'd', 'h', 'l', 'p', 't', 'x', u\"'\", '°', '3', '7', ';', '?', 'C', 'G', 'K', 'O', 'S', 'W', '[', '_', 'c', 'g', 'k', 'o', 's', 'w', '\\n', '\"', '*', '.', '2', '6', ':', 'B', 'F', 'J', 'N', 'R', 'V', 'Z', 'b', 'f', 'j', 'n', 'r', 'v', 'z', '!', ')', '-', '1', '5', '9', 'A', 'E', 'I', 'M', 'Q', '', 'Y', ']', 'a', 'e', 'i', 'm', 'q', '', 'y', ' ', '\\t']\n",
    "global_alphabet = ['(', '«', ',', '0', '4', '8', '»', 'D', 'Ç', 'H', 'L', 'P', 'T', 'X', 'd', 'ç', 'h', 'ë', 'l', 'ï', 'p', 't', 'x', 'û', u\"'\", '+', '/', '°', '3', '7', ';', '?', 'À', 'C', 'G', 'È', 'K', 'O', 'S', 'Ô', 'W', '[', '_', 'à', 'c', 'g', 'è', 'k', 'ì', 'o', 's', 'ô', 'w', 'ü', ' ', '\\n', '\"', '&', '*', '.', '2', '6', ':', 'B', 'F', 'É', 'J', 'N', 'R', 'V', 'Z', 'b', 'f', 'é', 'j', 'n', 'ñ', 'r', 'v', 'ù', 'z', '\\t', '!', ')', '-', '1', '5', '9', 'º', 'A', 'Â', 'E', 'Æ', 'I', 'Ê', 'M', 'Q', '', 'Y', ']', 'a', 'â', 'e', 'æ', 'i', 'ê', 'm', 'î', 'q', 'ò', '', 'ö', 'y']\n",
    "vowels = ['ë', 'û', 'À', 'È', 'O', 'Ô', 'à', 'è', 'ì', 'o', 'ô', 'ü', 'É', 'é', 'ù', 'A', 'Â', 'E', 'Æ', 'I', 'Ê', '', 'Y', 'a', 'â', 'e', 'æ', 'i', 'ê', 'î', 'ò', '', 'ö', 'y', 'ï']\n",
    "consonants = ['D', 'p', 't', 'x', 'Ç', 'H', 'L', 'P', 'T', 'X', 'd', 'ç', 'h', 'l', 'C', 'G', 'K', 'S', 'W', 'c', 'g', 'k', 's', 'w', 'B', 'F', 'J', 'N', 'R', 'V', 'Z', 'b', 'f', 'j', 'n', 'ñ', 'r', 'v', 'z', 'M', 'Q', 'm', 'q', ]\n",
    "numbers = ['0', '4', '8', '3', '7', '2', '6', '1', '5', '9', ]\n",
    "separators = ['(', '«', ',', '»', \"'\", '+', '/', '°', ';', '?', '[', '_', ' ', '\\n', '\"', '&', '*', '.', ':', '\\t', '!', ')', '-', 'º', ']', ]\n",
    "separators_as_string = ''.join(separators)\n",
    "\n",
    "# Function to extract features\n",
    "def extract_features(text):\n",
    "    # Prepare a data structure to store the results\n",
    "    res = []\n",
    "    # Loop over all pieces of text\n",
    "    for lne in text:\n",
    "        # PREPARE A ROW FOR THE DATASET\n",
    "        row = []\n",
    "        # Obtain the list of words (this is useful to extract many\n",
    "        # features)\n",
    "        words = [w.strip(separators_as_string) for w in lne.split()]\n",
    "        words = [w for w in words if len(w) > 0]\n",
    "\n",
    "        # ========================================================\n",
    "        # THIS IS THE AREA THAT YOU SHOULD EDIT\n",
    "        # ========================================================\n",
    "        \n",
    "        # F0: Number of words\n",
    "        nwords = len(words)\n",
    "        row.append(nwords)\n",
    "        \n",
    "        # F1: Number of characters per word\n",
    "        # NOTE: float(nwords) is necessary to avoid an integer division\n",
    "        ncharperword = len(lne) / float(nwords)\n",
    "        row.append(ncharperword)\n",
    "        \n",
    "        # F2: Get number of vowels\n",
    "        # NOTE: \"lower()\" makes the string lower case\n",
    "        nvowels = len([c for c in lne if c.lower() in vowels])\n",
    "        row.append(nvowels)\n",
    "        \n",
    "        # F3: Get the number of words starting with \"p\"\n",
    "        nstartp = len([w for w in words if w[0] == u'p'])\n",
    "        row.append(nstartp)\n",
    "        \n",
    "        # F4: Get number of occurences of the word \"cookie\"\n",
    "        ncookie = len([w for w in words if w == 'cookie'])\n",
    "        row.append(ncookie)\n",
    "        \n",
    "        # F5: Get number of occurrences of either \"cookie\" or \"wookie\"\n",
    "        ncwookie = len([w for w in words if w in ['cookie', 'wookie']])\n",
    "        row.append(ncwookie)\n",
    "        \n",
    "        # ========================================================\n",
    "        # THE AREA THAT YOU SHOULD EDIT ENDS HERE\n",
    "        # ========================================================\n",
    "        \n",
    "        # APPEND THE ROW\n",
    "        res.append(row)\n",
    "    # Return the result\n",
    "    return np.array(res)\n",
    "\n",
    "# EXTRACT THE FEATURES\n",
    "x_train = extract_features(text_train)\n",
    "x_test = extract_features(text_test)"
   ]
  },
  {
   "cell_type": "code",
   "execution_count": 7,
   "metadata": {},
   "outputs": [
    {
     "name": "stdout",
     "output_type": "stream",
     "text": [
      "Accuracy on the training set: 0.98\n",
      "Accuracy on the test set: 0.80\n"
     ]
    },
    {
     "data": {
      "image/png": "[encoded data removed]",
      "text/plain": [
       "<Figure size 432x288 with 2 Axes>"
      ]
     },
     "metadata": {},
     "output_type": "display_data"
    },
    {
     "data": {
      "image/png": "[encoded data removed]",
      "text/plain": [
       "<Figure size 432x288 with 1 Axes>"
      ]
     },
     "metadata": {},
     "output_type": "display_data"
    }
   ],
   "source": [
    "# ==================================================================\n",
    "# PREPROCESS, TRAIN, AND EVALUATE\n",
    "# ==================================================================\n",
    "\n",
    "from sklearn import preprocessing\n",
    "from sklearn import ensemble\n",
    "from sklearn import metrics\n",
    "from matplotlib import pyplot as plt\n",
    "import lutil\n",
    "\n",
    "\n",
    "# NORMALIZE ALL FEATURES\n",
    "\n",
    "scaler = preprocessing.StandardScaler()\n",
    "scaler.fit(x_train)\n",
    "x_train_norm = scaler.transform(x_train)\n",
    "x_test_norm = scaler.transform(x_test)\n",
    "\n",
    "# OBTAIN INTEGER CLASSES\n",
    "languages = ['english', 'french', 'italian']\n",
    "y_train = lutil.labels_to_int(lang_train, languages)\n",
    "y_test = lutil.labels_to_int(lang_test, languages)\n",
    "\n",
    "# Define the model\n",
    "model = ensemble.RandomForestClassifier(n_estimators=50)\n",
    "model.fit(x_train_norm, y_train)\n",
    "\n",
    "p_train = model.predict(x_train_norm)\n",
    "p_test = model.predict(x_test_norm)\n",
    "\n",
    "acc_train = metrics.accuracy_score(y_train, p_train)\n",
    "acc_test = metrics.accuracy_score(y_test, p_test)\n",
    "\n",
    "print('Accuracy on the training set: %.2f' % acc_train)\n",
    "print('Accuracy on the test set: %.2f' % acc_test)\n",
    "\n",
    "# First we need to obtain the predicted classes\n",
    "y_preds = model.predict(x_test_norm)\n",
    "\n",
    "# Then we can display the confusion matrix\n",
    "lutil.plot_confusion_matrix(y_test, y_preds, languages)\n",
    "\n",
    "# Plot importance scores\n",
    "importances = model.feature_importances_\n",
    "indices = np.argsort(importances)[::-1]\n",
    "plt.figure()\n",
    "plt.title(\"Feature importances\")\n",
    "plt.bar(range(x_train.shape[1]), importances[indices], color=\"r\", align=\"center\")\n",
    "plt.xticks(range(x_train.shape[1]), indices)\n",
    "plt.xlim([-1, x_train.shape[1]])\n",
    "plt.show()"
   ]
  }
 ],
 "metadata": {
  "kernelspec": {
   "display_name": "Python 3",
   "language": "python",
   "name": "python3"
  },
  "language_info": {
   "codemirror_mode": {
    "name": "ipython",
    "version": 2
   },
   "file_extension": ".py",
   "mimetype": "text/x-python",
   "name": "python",
   "nbconvert_exporter": "python",
   "pygments_lexer": "ipython2",
   "version": "2.7.15"
  }
 },
 "nbformat": 4,
 "nbformat_minor": 2
}
