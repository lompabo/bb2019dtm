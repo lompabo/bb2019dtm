{
 "cells": [
  {
   "cell_type": "markdown",
   "metadata": {},
   "source": [
    "# Ex - Univariate Time Series Prediction\n",
    "\n",
    "Here we will try using decision trees for a regression task, namely the time series prediction problem from the previous lecture."
   ]
  },
  {
   "cell_type": "markdown",
   "metadata": {},
   "source": [
    "## First of All...\n",
    "\n",
    "If you are using this notebook from Google Colab, you need to fetch the necessary resources by running:"
   ]
  },
  {
   "cell_type": "code",
   "execution_count": null,
   "metadata": {},
   "outputs": [],
   "source": [
    "!mkdir resources\n",
    "!wget https://raw.githubusercontent.com/lompabo/bbs2019dtm/master/lab02/resources/AirQualityUCI.csv\n",
    "!mv AirQualityUCI.csv resources\n",
    "!wget https://raw.githubusercontent.com/lompabo/bbs2019dtm/master/lab02/resources/lr_train.txt\n",
    "!mv lr_train.txt resources/\n",
    "!wget https://raw.githubusercontent.com/lompabo/bbs2019dtm/master/lab02/resources/lr_test.txt\n",
    "!mv lr_test.txt resources/\n",
    "!wget https://raw.githubusercontent.com/lompabo/bbs2019dtm/master/lab02/lutil.py"
   ]
  },
  {
   "cell_type": "markdown",
   "metadata": {},
   "source": [
    "Here is the code to load and preprocess the data. This time, we will take two non-contiguous time steps, namely te current one and the one 24 hours earlier.\n",
    "\n",
    "Note that, since we are dropping all rows containin NaN values, the sequence will be off at times: it would be better to apply the sliding window to each block of contiguous rows separately, but for this exercise we will choose simplicity over correctness.\n",
    "\n",
    "Start by trying to learn a linear and a tree-based (random forest) regressor for the univariate case. Then see what happens by including additional features. Try to manage overfitting for the Random Forest regressor."
   ]
  },
  {
   "cell_type": "code",
   "execution_count": 1,
   "metadata": {},
   "outputs": [
    {
     "name": "stdout",
     "output_type": "stream",
     "text": [
      "Original shape of the input data: (803, 2, 1)\n",
      "Original shape of the output data: (803, 1, 1)\n"
     ]
    },
    {
     "name": "stderr",
     "output_type": "stream",
     "text": [
      "/Users/lompa/Documents/Teaching/BBS 2019 - Master in Digital Technology Management/lab02/lutil.py:209: FutureWarning: arrays to stack must be passed as a \"sequence\" type such as list or tuple. Support for non-sequence iterables such as generators is deprecated as of NumPy 1.16 and will raise an error in the future.\n",
      "  x = np.stack( (data[i:-totwidth+i+1 or None:sliding_step] for i in steps_in), axis=1)\n",
      "/Users/lompa/Documents/Teaching/BBS 2019 - Master in Digital Technology Management/lab02/lutil.py:210: FutureWarning: arrays to stack must be passed as a \"sequence\" type such as list or tuple. Support for non-sequence iterables such as generators is deprecated as of NumPy 1.16 and will raise an error in the future.\n",
      "  y = np.stack( (data[i:-totwidth+i+1 or None:sliding_step][targets] for i in steps_out), axis=1)\n"
     ]
    }
   ],
   "source": [
    "import lutil\n",
    "import numpy as np\n",
    "\n",
    "# Load data\n",
    "data = lutil.load_air_data()\n",
    "data = data.dropna() # Discard tuples with NaN values\n",
    "\n",
    "# Univariate time series (discard all columns but one)\n",
    "data = data[['CO(GT)']]\n",
    "\n",
    "# Choose a separator date for the training and test set\n",
    "# NOTE: it's important to compute the means and standard deviations only on the training data!\n",
    "sep = data.index[-500]\n",
    "\n",
    "# Standardize the data\n",
    "means = data[data.index < sep].mean(axis=0)\n",
    "stds = data[data.index < sep].std(axis=0)\n",
    "data = (data - means) / stds\n",
    "\n",
    "# Build a dataset using a sliding window approach\n",
    "targets = ['CO(GT)']\n",
    "steps_in = [0,23]\n",
    "index, x_all, y_all = lutil.sliding_win_ds(data, targets, steps_in)\n",
    "\n",
    "print('Original shape of the input data: %s' % str(x_all.shape))\n",
    "print('Original shape of the output data: %s' % str(y_all.shape))\n",
    "\n",
    "x_all = x_all.reshape(len(x_all), -1)\n",
    "y_all = y_all.reshape(len(y_all), -1)\n",
    "\n",
    "# Separate training and test set\n",
    "train_mask = index < sep\n",
    "x_train, y_train = x_all[train_mask], y_all[train_mask]\n",
    "index_train = index[train_mask]\n",
    "test_mask = index >= sep\n",
    "x_test, y_test = x_all[test_mask], y_all[test_mask]\n",
    "index_test = index[test_mask]"
   ]
  },
  {
   "cell_type": "markdown",
   "metadata": {},
   "source": [
    "Here is the code to train a linear regressor:"
   ]
  },
  {
   "cell_type": "code",
   "execution_count": 2,
   "metadata": {},
   "outputs": [
    {
     "name": "stdout",
     "output_type": "stream",
     "text": [
      "MAE, training set (model): 0.465213\n",
      "MAE, test set (model): 0.454466\n",
      "R2, training set (model): 0.553735\n",
      "R2, test set (model): 0.625124\n"
     ]
    }
   ],
   "source": [
    "from sklearn import linear_model\n",
    "from sklearn import metrics\n",
    "\n",
    "# Build the model\n",
    "model = linear_model.LinearRegression()\n",
    "# Training\n",
    "model.fit(x_train, y_train)\n",
    "\n",
    "# Obtain predictions\n",
    "pred_train = model.predict(x_train)\n",
    "pred_test = model.predict(x_test)\n",
    "\n",
    "# Evaluate\n",
    "mae_train = metrics.mean_absolute_error(y_train, pred_train)\n",
    "r2_train = metrics.r2_score(y_train, pred_train)\n",
    "\n",
    "mae_test = metrics.mean_absolute_error(y_test, pred_test)\n",
    "r2_test = metrics.r2_score(y_test, pred_test)\n",
    "\n",
    "print('MAE, training set (model): %f' % (mae_train))\n",
    "print('MAE, test set (model): %f' % (mae_test))\n",
    "print('R2, training set (model): %f' % (r2_train))\n",
    "print('R2, test set (model): %f' % (r2_test))"
   ]
  },
  {
   "cell_type": "markdown",
   "metadata": {},
   "source": [
    "And here's how to train a Random Forest regressor:"
   ]
  },
  {
   "cell_type": "code",
   "execution_count": 3,
   "metadata": {},
   "outputs": [
    {
     "name": "stdout",
     "output_type": "stream",
     "text": [
      "MAE, training set (model): 0.230954\n",
      "MAE, test set (model): 0.527681\n",
      "R2, training set (model): 0.873783\n",
      "R2, test set (model): 0.446821\n"
     ]
    },
    {
     "name": "stderr",
     "output_type": "stream",
     "text": [
      "/usr/local/lib/python3.7/site-packages/sklearn/ensemble/forest.py:246: FutureWarning: The default value of n_estimators will change from 10 in version 0.20 to 100 in 0.22.\n",
      "  \"10 in version 0.20 to 100 in 0.22.\", FutureWarning)\n",
      "/usr/local/lib/python3.7/site-packages/ipykernel_launcher.py:8: DataConversionWarning: A column-vector y was passed when a 1d array was expected. Please change the shape of y to (n_samples,), for example using ravel().\n",
      "  \n"
     ]
    },
    {
     "data": {
      "image/png": "[encoded data removed]",
      "text/plain": [
       "<Figure size 432x288 with 1 Axes>"
      ]
     },
     "metadata": {
      "needs_background": "light"
     },
     "output_type": "display_data"
    }
   ],
   "source": [
    "from sklearn import ensemble\n",
    "from sklearn import metrics\n",
    "from matplotlib import pyplot as plt\n",
    "\n",
    "# Build the model\n",
    "model = ensemble.RandomForestRegressor()\n",
    "# Training\n",
    "model.fit(x_train, y_train)\n",
    "\n",
    "# Obtain predictions\n",
    "pred_train = model.predict(x_train)\n",
    "pred_test = model.predict(x_test)\n",
    "\n",
    "# Evaluate\n",
    "mae_train = metrics.mean_absolute_error(y_train, pred_train)\n",
    "r2_train = metrics.r2_score(y_train, pred_train)\n",
    "\n",
    "mae_test = metrics.mean_absolute_error(y_test, pred_test)\n",
    "r2_test = metrics.r2_score(y_test, pred_test)\n",
    "\n",
    "print('MAE, training set (model): %f' % (mae_train))\n",
    "print('MAE, test set (model): %f' % (mae_test))\n",
    "print('R2, training set (model): %f' % (r2_train))\n",
    "print('R2, test set (model): %f' % (r2_test))\n",
    "\n",
    "# Plot importance scores\n",
    "importances = model.feature_importances_\n",
    "indices = np.argsort(importances)[::-1]\n",
    "plt.figure()\n",
    "plt.title(\"Feature importances\")\n",
    "plt.bar(range(x_train.shape[1]), importances[indices], color=\"r\", align=\"center\")\n",
    "plt.xticks(range(x_train.shape[1]), indices)\n",
    "plt.xlim([-1, x_train.shape[1]])\n",
    "plt.show()"
   ]
  }
 ],
 "metadata": {
  "kernelspec": {
   "display_name": "Python 3",
   "language": "python",
   "name": "python3"
  },
  "language_info": {
   "codemirror_mode": {
    "name": "ipython",
    "version": 3
   },
   "file_extension": ".py",
   "mimetype": "text/x-python",
   "name": "python",
   "nbconvert_exporter": "python",
   "pygments_lexer": "ipython3",
   "version": "3.7.3"
  }
 },
 "nbformat": 4,
 "nbformat_minor": 2
}
