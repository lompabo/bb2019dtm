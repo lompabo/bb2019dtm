{
 "cells": [
  {
   "cell_type": "markdown",
   "metadata": {},
   "source": [
    "# Machine Learning for Language Recognition\n",
    "\n",
    "## Problem Description\n",
    "\n",
    "We want to design a system for automatically detecting in which language a short text is written. In particular, we want to distinguish between English, French, and Italian.\n",
    "\n",
    "Some examples:\n",
    "\n",
    "> The doctor, who was the family physician, saluted him, but he scarcely took any notice. --> English\n",
    "\n",
    "> J'ai couru chez toi, je ne t'ai plus trouvée, tu sais la parole que je t'avais donnée, je la Bens. --> French\n",
    "\n",
    "> Conosci tu qualche hossanieh poco scrupoloso che si possa comperare con un bel pugno d'oro? --> Italian\n",
    "\n",
    "This is a simple, but realistic problem, which we want to solve using a traditional (non deep) Multi Layer Perceptron.\n",
    "\n",
    "Compared to our dummy example there is **one main difference: each sample in the dataset is a piece of text, rather than a vector of numbers**.\n",
    "\n",
    "Before we can think of learning a MLP to solve this problem, we need to convert the input in a form that the Neural Network can understand.\n",
    "\n",
    "The traditonal way to do it is by computing for each piece of text a set of numeric _features_ (e.g. number characters, number of vowels...). By doing so, we associate each example to a feature vector, which can be fed to the MLP.\n",
    "\n",
    "The main goal of this exercise will be to design a good set of features for the considered problem. We will come to that at the end of the notebook: first, we need to understand how the overall solution approach works."
   ]
  },
  {
   "cell_type": "markdown",
   "metadata": {},
   "source": [
    "## First of All...\n",
    "\n",
    "If you are using this notebook from Google Colab, you need to fetch the necessary resources by running:"
   ]
  },
  {
   "cell_type": "code",
   "execution_count": null,
   "metadata": {},
   "outputs": [],
   "source": [
    "!mkdir resources\n",
    "!wget https://raw.githubusercontent.com/lompabo/bbs2019dtm/master/lab02/resources/AirQualityUCI.csv\n",
    "!mv AirQualityUCI.csv resources\n",
    "!wget https://raw.githubusercontent.com/lompabo/bbs2019dtm/master/lab02/resources/lr_train.txt\n",
    "!mv lr_train.txt resources/\n",
    "!wget https://raw.githubusercontent.com/lompabo/bbs2019dtm/master/lab02/resources/lr_test.txt\n",
    "!mv lr_test.txt resources/\n",
    "!wget https://raw.githubusercontent.com/lompabo/bbs2019dtm/master/lab02/lutil.py"
   ]
  },
  {
   "cell_type": "markdown",
   "metadata": {},
   "source": [
    "## Loading the data\n",
    "\n",
    "The first thing to do is loading the training set in its raw format. We will do it by using a function that has been pre-coded and stored in a separate \".py\" file (prepared for this lecture): we will import the function via the instruction:\n",
    "\n",
    "```python\n",
    "import lutil\n",
    "```\n",
    "\n",
    "where `ltuil.py` is the name of the file to import. The function is called `load_data` and has the signature:\n",
    "\n",
    "```python\n",
    "def load_lr_data(file_name)\n",
    "```\n",
    "\n",
    "which is quite intuitive. The function returns a tuple with two elements, as shown in the following code:"
   ]
  },
  {
   "cell_type": "code",
   "execution_count": 10,
   "metadata": {},
   "outputs": [],
   "source": [
    "import lutil\n",
    "\n",
    "# Load the training data\n",
    "text_train, lang_train = lutil.load_lr_data('lr_train.txt')\n",
    "# Load the test data\n",
    "text_test, lang_test = lutil.load_lr_data('lr_test.txt')"
   ]
  },
  {
   "cell_type": "markdown",
   "metadata": {},
   "source": [
    "Where `text_train` is a list containing all the short texts in the trainin test, and `lang_train` is a list with the corresponding language. `text_test` and `lang_test` contain the same information for the test set.\n",
    "\n",
    "We can inspect them by printing the first few elements:"
   ]
  },
  {
   "cell_type": "code",
   "execution_count": 11,
   "metadata": {},
   "outputs": [
    {
     "name": "stdout",
     "output_type": "stream",
     "text": [
      "The doctor, who was the family physician, saluted him, but he scarcely took any notice. --> english\n",
      "Cette réserve faite, et faite en toute sévérité, il nous est impossible de ne pas admirer, qu'ils réussissent ou non, les glorieux combattants de l'avenir, les confesseurs de l'utopie. --> french\n"
     ]
    }
   ],
   "source": [
    "for i in range(2):\n",
    "    print(text_train[i], '-->', lang_train[i])"
   ]
  },
  {
   "cell_type": "markdown",
   "metadata": {},
   "source": [
    "Next, we can write some code for extracting the features.\n",
    "\n",
    "We will write a function that returns a numpy array with:\n",
    "\n",
    "* One row for each example in the dataset\n",
    "* One column for each feature\n",
    "\n",
    "Hence, the structure of our code will be (more or less):\n",
    "\n",
    "```python\n",
    "def extract_features(text):\n",
    "    # Prepare a data structure to store the results\n",
    "    res = []\n",
    "    # Loop over all pieces of text\n",
    "    for lne in text:\n",
    "        row = []\n",
    "        # Feature 1:\n",
    "        v = # code to extract the feature\n",
    "        row.append(v)\n",
    "        # Feature 2:\n",
    "        v = # code to extract the feature\n",
    "        row.append(v)\n",
    "        ...\n",
    "        # Append the row\n",
    "        res.append(row)\n",
    "    return np.array(res)\n",
    "```\n",
    "\n",
    "With `np.array(res)` we build a numpy array with the same structure and content of the `res` data structure."
   ]
  },
  {
   "cell_type": "markdown",
   "metadata": {},
   "source": [
    "An example of feature extraction code that is actually working is given here.\n",
    "\n",
    "The features used in thes code are just examples: they do not work very well for detecting the language, but they provide good examples of what you can do to extract a features.\n",
    "\n",
    "You main job in this exercise will be to write code for extracting different features.\n",
    "\n",
    "The code starts with the iniitialization of several lists (e.g. `common_alphabet`) that contain characters appearing in our training and test set. They are provided for convenience, since they may be useful for computing some features. The `u` before each string in the lists is there because the text contains all manners of accented letters, which requires to use the Unicode format for representing string characters. The `u` tells python that the string should use the Unicode format."
   ]
  },
  {
   "cell_type": "code",
   "execution_count": 12,
   "metadata": {},
   "outputs": [],
   "source": [
    "import numpy as np\n",
    "\n",
    "common_alphabet = ['(', '«', ',', '0', '4', '8', '»', 'D', 'H', 'L', 'P', 'T', 'X', 'd', 'h', 'l', 'p', 't', 'x', u\"'\", '°', '3', '7', ';', '?', 'C', 'G', 'K', 'O', 'S', 'W', '[', '_', 'c', 'g', 'k', 'o', 's', 'w', '\\n', '\"', '*', '.', '2', '6', ':', 'B', 'F', 'J', 'N', 'R', 'V', 'Z', 'b', 'f', 'j', 'n', 'r', 'v', 'z', '!', ')', '-', '1', '5', '9', 'A', 'E', 'I', 'M', 'Q', '', 'Y', ']', 'a', 'e', 'i', 'm', 'q', 'y', ' ', '\\t']\n",
    "global_alphabet = ['(', '«', ',', '0', '4', '8', '»', 'D', 'Ç', 'H', 'L', 'P', 'T', 'X', 'd', 'ç', 'h', 'ë', 'l', 'ï', 'p', 't', 'x', 'û', u\"'\", '+', '/', '°', '3', '7', ';', '?', 'À', 'C', 'G', 'È', 'K', 'O', 'S', 'Ô', 'W', '[', '_', 'à', 'c', 'g', 'è', 'k', 'ì', 'o', 's', 'ô', 'w', 'ü', ' ', '\\n', '\"', '&', '*', '.', '2', '6', ':', 'B', 'F', 'É', 'J', 'N', 'R', 'V', 'Z', 'b', 'f', 'é', 'j', 'n', 'ñ', 'r', 'v', 'ù', 'z', '\\t', '!', ')', '-', '1', '5', '9', 'º', 'A', 'Â', 'E', 'Æ', 'I', 'Ê', 'M', 'Q', '', 'Y', ']', 'a', 'â', 'e', 'æ', 'i', 'ê', 'm', 'î', 'q', 'ò', 'ö', 'y']\n",
    "vowels = ['ë', 'û', 'À', 'È', 'O', 'Ô', 'à', 'è', 'ì', 'o', 'ô', 'ü', 'É', 'é', 'ù', 'A', 'Â', 'E', 'Æ', 'I', 'Ê', '', 'Y', 'a', 'â', 'e', 'æ', 'i', 'ê', 'î', 'ò', '', 'ö', 'y', 'ï']\n",
    "consonants = ['D', 'p', 't', 'x', 'Ç', 'H', 'L', 'P', 'T', 'X', 'd', 'ç', 'h', 'l', 'C', 'G', 'K', 'S', 'W', 'c', 'g', 'k', 's', 'w', 'B', 'F', 'J', 'N', 'R', 'V', 'Z', 'b', 'f', 'j', 'n', 'ñ', 'r', 'v', 'z', 'M', 'Q', 'm', 'q', ]\n",
    "numbers = ['0', '4', '8', '3', '7', '2', '6', '1', '5', '9', ]\n",
    "separators = ['(', '«', ',', '»', \"'\", '+', '/', '°', ';', '?', '[', '_', ' ', '\\n', '\"', '&', '*', '.', ':', '\\t', '!', ')', '-', 'º', ']']\n",
    "separators_as_string = ''.join(separators)\n",
    "\n",
    "def extract_features(text):\n",
    "    # Prepare a data structure to store the results\n",
    "    res = []\n",
    "    # Loop over all pieces of text\n",
    "    for lne in text:\n",
    "        # PREPARE A ROW FOR THE DATASET\n",
    "        row = []\n",
    "        # Obtain the list of words (this is useful to extract many\n",
    "        # features)\n",
    "        words = [w.strip(separators_as_string) for w in lne.split()]\n",
    "        words = [w for w in words if len(w) > 0]\n",
    "\n",
    "        # EXTRACT FEATURES\n",
    "        # F0: Number of words\n",
    "        nwords = len(words)\n",
    "        row.append(nwords)\n",
    "        # F1: Number of characters per word\n",
    "        # NOTE: float(nwords) is necessary to avoid an integer division\n",
    "        ncharperword = len(lne) / float(nwords)\n",
    "        row.append(ncharperword)\n",
    "        # F2: Get number of vowels\n",
    "        # NOTE: \"lower()\" makes the string lower case\n",
    "        nvowels = len([c for c in lne if c.lower() in vowels])\n",
    "        row.append(nvowels)\n",
    "        # F3: Get the number of words starting with \"p\"\n",
    "        nstartp = len([w for w in words if w[0] == u'p'])\n",
    "        row.append(nstartp)\n",
    "        # F4: Get number of occurences of the word \"cookie\"\n",
    "        ncookie = len([w for w in words if w == 'cookie'])\n",
    "        row.append(ncookie)\n",
    "        # F5: Get number of occurrences of either \"cookie\" or \"wookie\"\n",
    "        ncwookie = len([w for w in words if w in ['cookie', 'wookie']])\n",
    "        row.append(ncwookie)\n",
    "        \n",
    "        # APPEND THE ROW\n",
    "        res.append(row)\n",
    "    # Return the result\n",
    "    return np.array(res)\n",
    "\n",
    "x_train = extract_features(text_train)\n",
    "x_test = extract_features(text_test)"
   ]
  },
  {
   "cell_type": "markdown",
   "metadata": {},
   "source": [
    "Let's have a look at the results:"
   ]
  },
  {
   "cell_type": "code",
   "execution_count": 13,
   "metadata": {},
   "outputs": [
    {
     "name": "stdout",
     "output_type": "stream",
     "text": [
      "[[15.          5.8        27.          1.          0.          0.        ]\n",
      " [29.          6.34482759 57.          1.          0.          0.        ]\n",
      " [20.          5.5        35.          0.          0.          0.        ]]\n",
      "[[23.          5.26086957 34.          2.          0.          0.        ]\n",
      " [15.          6.8        33.          1.          0.          0.        ]\n",
      " [12.          7.33333333 28.          1.          0.          0.        ]]\n"
     ]
    }
   ],
   "source": [
    "print(x_train[:3, ])\n",
    "print(x_test[:3, ])"
   ]
  },
  {
   "cell_type": "markdown",
   "metadata": {},
   "source": [
    "The input data is almost ready: we just need to normalize it. This is needed because in this lecture we will employ both a linear classifier and Decision Trees: Decision Trees can deal easily wiht unscaled data, but linear classifiers have trouble with them.\n",
    "\n",
    "Scikit-learn provides some useful methods for normalization and standardization. We didn't employ them in the last lecture because we were dealing with a very peculiar situation (i.e. a time series).\n",
    "\n",
    "In detail, normalization is handled via \"scalers\". A scaler is treated similarly to a ML model:\n",
    "\n",
    "- Some parameters can be specified a construction time\n",
    "- The scaler will need to be trained, which allow sklear to obtain the data-dependent parameters (e.g. $\\mu$ and $\\sigma$)\n",
    "- The scaler can then be used"
   ]
  },
  {
   "cell_type": "code",
   "execution_count": 14,
   "metadata": {},
   "outputs": [],
   "source": [
    "from sklearn import preprocessing\n",
    "\n",
    "scaler = preprocessing.StandardScaler()\n",
    "scaler.fit(x_train)\n",
    "\n",
    "x_train_norm = scaler.transform(x_train)\n",
    "x_test_norm = scaler.transform(x_test)"
   ]
  },
  {
   "cell_type": "markdown",
   "metadata": {},
   "source": [
    "Scalers can also easily apply the inverse transformation (i.e. \"unscale\" the data)."
   ]
  },
  {
   "cell_type": "markdown",
   "metadata": {},
   "source": [
    "Let's have a look at the standardized data:"
   ]
  },
  {
   "cell_type": "code",
   "execution_count": 16,
   "metadata": {},
   "outputs": [
    {
     "name": "stdout",
     "output_type": "stream",
     "text": [
      "[[-0.7813303  -0.20776644 -0.77763905 -0.18827856  0.          0.        ]\n",
      " [ 0.60535866  0.63376133  0.71106802 -0.18827856  0.          0.        ]\n",
      " [-0.28608424 -0.67113933 -0.3806505  -0.9216643   0.          0.        ]]\n",
      "[[ 0.01106339 -1.04049453 -0.43027407  0.54510718  0.          0.        ]\n",
      " [-0.7813303   1.33680985 -0.47989764 -0.18827856  0.          0.        ]\n",
      " [-1.07847794  2.16058387 -0.72801548 -0.18827856  0.          0.        ]]\n"
     ]
    }
   ],
   "source": [
    "print(x_train_norm[:3, :])\n",
    "print(x_test_norm[:3, :])"
   ]
  },
  {
   "cell_type": "markdown",
   "metadata": {},
   "source": [
    "There seems to be no \"cookie\" and no \"wookie\" in this stories :-) That's why feature #4 and feature #5 are always zero.\n",
    "\n",
    "Ok, now our input is ready.\n",
    "\n",
    "We still need to do something about the output though. Currently, we have access for each example to the language as a string, i.e. \"english\", \"french\", or \"italian\".\n",
    "\n",
    "We will need to convert them to integer values. Once again, to make your life simpler, a function to conver string classes to integer classes has been provided in the \"lutil.py\" file. The signature is:\n",
    "\n",
    "```python\n",
    "def labels_to_int(data, labels)\n",
    "```\n",
    "\n",
    "where: \n",
    "\n",
    "* `data` is an array of strings\n",
    "* `labels` is a list with the class names\n",
    "\n",
    "The function return a list of integers. In particular, each string is replaced with its position in the `labels` list."
   ]
  },
  {
   "cell_type": "code",
   "execution_count": 18,
   "metadata": {},
   "outputs": [
    {
     "name": "stdout",
     "output_type": "stream",
     "text": [
      "[0 1 0 2]\n"
     ]
    }
   ],
   "source": [
    "languages = ['english', 'french', 'italian']\n",
    "\n",
    "# Convert the training and the test set\n",
    "y_train = lutil.labels_to_int(lang_train, languages)\n",
    "y_test = lutil.labels_to_int(lang_test, languages)\n",
    "\n",
    "# Let's have a look at the result\n",
    "print(y_train[:4])"
   ]
  },
  {
   "cell_type": "markdown",
   "metadata": {},
   "source": [
    "## Logistic Regression\n",
    "\n",
    "We will now train a linear _classifier_ (Logistic Regression) to address this language detection problem."
   ]
  },
  {
   "cell_type": "code",
   "execution_count": 19,
   "metadata": {},
   "outputs": [
    {
     "name": "stderr",
     "output_type": "stream",
     "text": [
      "/usr/local/lib/python3.7/site-packages/sklearn/linear_model/logistic.py:460: FutureWarning: Default multi_class will be changed to 'auto' in 0.22. Specify the multi_class option to silence this warning.\n",
      "  \"this warning.\", FutureWarning)\n",
      "/usr/local/lib/python3.7/site-packages/sklearn/linear_model/sag.py:334: ConvergenceWarning: The max_iter was reached which means the coef_ did not converge\n",
      "  \"the coef_ did not converge\", ConvergenceWarning)\n"
     ]
    },
    {
     "data": {
      "text/plain": [
       "LogisticRegression(C=1.0, class_weight=None, dual=False, fit_intercept=True,\n",
       "          intercept_scaling=1, max_iter=10, multi_class='warn',\n",
       "          n_jobs=None, penalty='l2', random_state=None, solver='saga',\n",
       "          tol=0.0001, verbose=0, warm_start=False)"
      ]
     },
     "execution_count": 19,
     "metadata": {},
     "output_type": "execute_result"
    }
   ],
   "source": [
    "from sklearn import linear_model\n",
    "\n",
    "model = linear_model.LogisticRegression(solver='saga', tol=1e-4, max_iter=10)\n",
    "model.fit(x_train_norm, y_train)"
   ]
  },
  {
   "cell_type": "markdown",
   "metadata": {},
   "source": [
    "We can obtain the predictions in the usual way:"
   ]
  },
  {
   "cell_type": "code",
   "execution_count": 20,
   "metadata": {},
   "outputs": [
    {
     "name": "stdout",
     "output_type": "stream",
     "text": [
      "[1 2 0] [0 1 0]\n",
      "[0 2 1] [0 1 1]\n"
     ]
    }
   ],
   "source": [
    "p_train = model.predict(x_train_norm)\n",
    "p_test = model.predict(x_test_norm)\n",
    "\n",
    "print(p_train[:3], y_train[:3])\n",
    "print(p_test[:3], y_test[:3])"
   ]
  },
  {
   "cell_type": "markdown",
   "metadata": {},
   "source": [
    "We can compute the model accuracy by relying again on functions from the \"metrics\" submodule:"
   ]
  },
  {
   "cell_type": "code",
   "execution_count": 21,
   "metadata": {},
   "outputs": [
    {
     "name": "stdout",
     "output_type": "stream",
     "text": [
      "Accuracy on the training set: 0.68\n",
      "Accuracy on the test set: 0.69\n"
     ]
    }
   ],
   "source": [
    "from sklearn import metrics\n",
    "\n",
    "acc_train = metrics.accuracy_score(y_train, p_train)\n",
    "acc_test = metrics.accuracy_score(y_test, p_test)\n",
    "\n",
    "print('Accuracy on the training set: %.2f' % acc_train)\n",
    "print('Accuracy on the test set: %.2f' % acc_test)"
   ]
  },
  {
   "cell_type": "markdown",
   "metadata": {},
   "source": [
    "## Decision Trees in Scikit-learn\n",
    "\n",
    "Decision trees are actually quite easy to use in scikit-learn. As usual, we just need to:\n",
    "\n",
    "- Instantiate a tree model\n",
    "- Train\n",
    "- Predict"
   ]
  },
  {
   "cell_type": "code",
   "execution_count": 22,
   "metadata": {},
   "outputs": [
    {
     "name": "stdout",
     "output_type": "stream",
     "text": [
      "Accuracy on the training set: 0.98\n",
      "Accuracy on the test set: 0.75\n"
     ]
    }
   ],
   "source": [
    "from sklearn import tree\n",
    "\n",
    "model = tree.DecisionTreeClassifier()\n",
    "model.fit(x_train_norm, y_train)\n",
    "\n",
    "p_train = model.predict(x_train_norm)\n",
    "p_test = model.predict(x_test_norm)\n",
    "\n",
    "acc_train = metrics.accuracy_score(y_train, p_train)\n",
    "acc_test = metrics.accuracy_score(y_test, p_test)\n",
    "\n",
    "print('Accuracy on the training set: %.2f' % acc_train)\n",
    "print('Accuracy on the test set: %.2f' % acc_test)"
   ]
  },
  {
   "cell_type": "markdown",
   "metadata": {},
   "source": [
    "The results are significantly better than before!\n",
    "\n",
    "The main reason is that DTs can deal with non-linear input/output relations, that cannot be effectively managed by linear classifiers.\n",
    "\n",
    "DTs have also a tendency to happily overfit, though, and this is definitely happening right now.\n",
    "\n",
    "A simple method to reduce overfitting consists in enforcing some bias. In the case of DTs, we can for example limit the depth, or the minimum number of examples per leaf:"
   ]
  },
  {
   "cell_type": "code",
   "execution_count": 23,
   "metadata": {},
   "outputs": [
    {
     "name": "stdout",
     "output_type": "stream",
     "text": [
      "Accuracy on the training set: 0.73\n",
      "Accuracy on the test set: 0.67\n"
     ]
    }
   ],
   "source": [
    "from sklearn import tree\n",
    "\n",
    "model = tree.DecisionTreeClassifier(min_samples_leaf=10)\n",
    "model.fit(x_train_norm, y_train)\n",
    "\n",
    "p_train = model.predict(x_train_norm)\n",
    "p_test = model.predict(x_test_norm)\n",
    "\n",
    "acc_train = metrics.accuracy_score(y_train, p_train)\n",
    "acc_test = metrics.accuracy_score(y_test, p_test)\n",
    "\n",
    "print('Accuracy on the training set: %.2f' % acc_train)\n",
    "print('Accuracy on the test set: %.2f' % acc_test)"
   ]
  },
  {
   "cell_type": "markdown",
   "metadata": {},
   "source": [
    "This is not always effective, though: a much better method in practice consists in using _ensembles_ of trees, such as Random Forest or Gradient Boosted Trees. Once again, these systems are easy to use in scikit-learn:"
   ]
  },
  {
   "cell_type": "code",
   "execution_count": 24,
   "metadata": {},
   "outputs": [
    {
     "name": "stdout",
     "output_type": "stream",
     "text": [
      "Accuracy on the training set: 0.98\n",
      "Accuracy on the test set: 0.79\n"
     ]
    }
   ],
   "source": [
    "from sklearn import ensemble\n",
    "\n",
    "model = ensemble.RandomForestClassifier(n_estimators=50)\n",
    "model.fit(x_train_norm, y_train)\n",
    "\n",
    "p_train = model.predict(x_train_norm)\n",
    "p_test = model.predict(x_test_norm)\n",
    "\n",
    "acc_train = metrics.accuracy_score(y_train, p_train)\n",
    "acc_test = metrics.accuracy_score(y_test, p_test)\n",
    "\n",
    "print('Accuracy on the training set: %.2f' % acc_train)\n",
    "print('Accuracy on the test set: %.2f' % acc_test)"
   ]
  },
  {
   "cell_type": "markdown",
   "metadata": {},
   "source": [
    "Again, not even this is working particularly well."
   ]
  },
  {
   "cell_type": "markdown",
   "metadata": {},
   "source": [
    "## The Elephant in the Room\n",
    "\n",
    "Why are we still overfitting? There is a simple reason that we have overlooked so far: the current set of features may be meaning less. Let's have a second look at them:\n",
    "\n",
    "```\n",
    "# F0: Number of words\n",
    "nwords = len(words)\n",
    "row.append(nwords)\n",
    "# F1: Number of characters per word\n",
    "# NOTE: float(nwords) is necessary to avoid an integer division\n",
    "ncharperword = len(lne) / float(nwords)\n",
    "row.append(ncharperword)\n",
    "# F2: Get number of vowels\n",
    "# NOTE: \"lower()\" makes the string lower case\n",
    "nvowels = len([c for c in lne if c.lower() in vowels])\n",
    "row.append(nvowels)\n",
    "# F3: Get the number of words starting with \"p\"\n",
    "nstartp = len([w for w in words if w[0] == u'p'])\n",
    "row.append(nstartp)\n",
    "# F4: Get number of occurences of the word \"cookie\"\n",
    "ncookie = len([w for w in words if w == 'cookie'])\n",
    "row.append(ncookie)\n",
    "# F5: Get number of occurrences of either \"cookie\" or \"wookie\"\n",
    "ncwookie = len([w for w in words if w in ['cookie', 'wookie']])\n",
    "row.append(ncwookie)\n",
    "```\n",
    "\n",
    "Except for F2 and F1, the other features are pure garbage. That has been done in purpose! These fetures are good examples of _what you can extract_ from data, but definitely poor examples of _what you should extract_.\n",
    "\n",
    "In short: we'd better refine our feature set. This requires some deeper insight into the performance of our classifier and into its behavior."
   ]
  },
  {
   "cell_type": "markdown",
   "metadata": {},
   "source": [
    "## Confusion Matrix\n",
    "\n",
    "Before the true action starts, it is worth introducing a slighly more advanced tool to look at the accuracy a classifier, called \"confusion matrix\".\n",
    "\n",
    "Behind the fancy name, a confusion matrix is just a data structure that stores both correct and wrong prediction for a classifier. In detail, every entry $C_{i,j}$ in the matrix tells how many examples having _true class $i$_ have been _classified as having class $j$_.\n",
    "\n",
    "Basically, the true classes act as row labels and the predicted classes as column labels.\n",
    "\n",
    "|           | C1 (pred) | C2 (pred) | C3 (pred) | ... |\n",
    "|:---------:|:---------:|:---------:|:---------:|-----|\n",
    "| **C1 (true)** |  C1 classified as C1 | C1 classified as C2 | C1 classified as C3 | ...    |\n",
    "| **C2 (true)** | ... | ... | ... | ... |\n",
    "| **C3 (true)** | ... | ... | ... | ... |\n",
    "|    **...**    | ... | ... | ... | ... |\n",
    "\n",
    "The `lutil` file that we have previously loaded contains a function to display a figure with the confusion matrix. The signature of the function is:\n",
    "\n",
    "```python\n",
    "def plot_confusion_matrix(targets, preds, classes):\n",
    "```\n",
    "\n",
    "where: \n",
    "\n",
    "* `targets` is an array with the true classes (as integers)\n",
    "* `preds` is an array with the predicted classes (as integers)\n",
    "* `classes` is a list with the names of the classes (i.e. the laguages, in our case)."
   ]
  },
  {
   "cell_type": "code",
   "execution_count": 89,
   "metadata": {},
   "outputs": [
    {
     "data": {
      "image/png": "[encoded data removed]",
      "text/plain": [
       "<Figure size 432x288 with 2 Axes>"
      ]
     },
     "metadata": {},
     "output_type": "display_data"
    }
   ],
   "source": [
    "# First we need to obtain the predicted classes\n",
    "# NOTE: we have already seen how to do it\n",
    "y_preds = model.predict(x_test_norm)\n",
    "\n",
    "# Then we can display the confusion matrix\n",
    "lutil.plot_confusion_matrix(y_test, y_preds, languages)"
   ]
  },
  {
   "cell_type": "markdown",
   "metadata": {},
   "source": [
    "A confusion matrix is cool because it enables one to see at a glance where most of the classification errors are. In particular:\n",
    "\n",
    "* Elements on the diagonal correspond to the number of exact classifications: they should be as large as possible.\n",
    "* Elements outside of the diagonal tell us how many misclassification of each type have occurred.\n",
    "\n",
    "In our case, for example, we have trouble distinguishing between Italian and French, and some difficulties with French and English."
   ]
  },
  {
   "cell_type": "markdown",
   "metadata": {},
   "source": [
    "## Feature Importance Scores\n",
    "\n",
    "All tree based model enable the computation of \"importance scores\" for each features, that reflect the average relative reduction in the training metric (e.g. entropy) associated to splits over the feature:"
   ]
  },
  {
   "cell_type": "code",
   "execution_count": 94,
   "metadata": {},
   "outputs": [
    {
     "name": "stdout",
     "output_type": "stream",
     "text": [
      "Feature ranking:\n",
      "1. feature 1 (0.375653)\n",
      "2. feature 2 (0.309887)\n",
      "3. feature 0 (0.208676)\n",
      "4. feature 3 (0.105784)\n",
      "5. feature 5 (0.000000)\n",
      "6. feature 4 (0.000000)\n"
     ]
    },
    {
     "data": {
      "image/png": "[encoded data removed]",
      "text/plain": [
       "<Figure size 432x288 with 1 Axes>"
      ]
     },
     "metadata": {},
     "output_type": "display_data"
    }
   ],
   "source": [
    "importances = model.feature_importances_\n",
    "indices = np.argsort(importances)[::-1]\n",
    "\n",
    "# Print the feature ranking\n",
    "print(\"Feature ranking:\")\n",
    "\n",
    "for f in range(x_train.shape[1]):\n",
    "    print(\"%d. feature %d (%f)\" % (f + 1, indices[f], importances[indices[f]]))\n",
    "\n",
    "# Plot the feature importances of the forest\n",
    "plt.figure()\n",
    "plt.title(\"Feature importances\")\n",
    "plt.bar(range(x_train.shape[1]), importances[indices],\n",
    "       color=\"r\", align=\"center\")\n",
    "plt.xticks(range(x_train.shape[1]), indices)\n",
    "plt.xlim([-1, x_train.shape[1]])\n",
    "plt.show()"
   ]
  },
  {
   "cell_type": "markdown",
   "metadata": {},
   "source": [
    "As expected, F1 and F2 are the most important for the classification.\n",
    "\n",
    "Keep in mind that this information refers to the training set: hence, if a feature is important"
   ]
  }
 ],
 "metadata": {
  "kernelspec": {
   "display_name": "Python 3",
   "language": "python",
   "name": "python3"
  },
  "language_info": {
   "codemirror_mode": {
    "name": "ipython",
    "version": 3
   },
   "file_extension": ".py",
   "mimetype": "text/x-python",
   "name": "python",
   "nbconvert_exporter": "python",
   "pygments_lexer": "ipython3",
   "version": "3.7.3"
  }
 },
 "nbformat": 4,
 "nbformat_minor": 2
}
