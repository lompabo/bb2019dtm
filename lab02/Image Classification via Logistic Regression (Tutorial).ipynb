{
 "cells": [
  {
   "cell_type": "markdown",
   "metadata": {},
   "source": [
    "# Ex: Image Classification via Logistic Regression\n",
    "\n",
    "We will now learn how to use a linear _classifier_ (Logistic Regression) to address an image recognition problem.\n",
    "\n",
    "Logistic regression assumes that the probability of a (binary) event is given by the expression:\n",
    "\n",
    "$$\n",
    "p(x) = \\frac{1}{1 + e^{-{\\bf w} \\cdot {\\bf x}}}\n",
    "$$\n",
    "\n",
    "Where $\\bf w$ is a vector of weights, $\\bf x$ is a vector of independent variables (or features), and ${\\bf w} \\cdot {\\bf x}$ is their inner product:\n",
    "\n",
    "$$\n",
    "{\\bf w} \\cdot {\\bf x} = \\sum_{i = 1}^{n} w_i x_i\n",
    "$$\n",
    "\n",
    "Assuming that the probability $p(x)$ is the quantity that we want to estimate, the expression can be rewritten as:\n",
    "\n",
    "$$\n",
    "\\log\\left(\\frac{p(x)}{1 + p(x)}\\right) = \\sum_{i = 1}^{n} w_i x_i\n",
    "$$\n",
    "\n",
    "The trick is that in practice $p(x)$ is just the class label, which can be interpreted as a probability: in particular $p(x) = 1$ for the \"positive\" class and $p(x) = 0$ for the \"negative\" class. Since the label $p(x)$ is know, the left-most expression in the above equation can be computed off-line, leading to a simple linear model.\n",
    "\n",
    "Intuitively, as the sum $\\sum_{i = 1}^{n} w_i x_i$ grows, the odds that the class is positive increase according to a sigmoid curve:"
   ]
  },
  {
   "cell_type": "code",
   "execution_count": 2,
   "metadata": {},
   "outputs": [
    {
     "data": {
      "image/png": "[encoded data removed]",
      "text/plain": [
       "<Figure size 720x360 with 1 Axes>"
      ]
     },
     "metadata": {
      "needs_background": "light"
     },
     "output_type": "display_data"
    }
   ],
   "source": [
    "from matplotlib import pyplot as plt\n",
    "import numpy as np\n",
    "\n",
    "plt.figure(figsize=(10, 5))\n",
    "x = np.linspace(-5, 5)\n",
    "plt.plot(x, 1 / (1 + np.exp(-x)))\n",
    "plt.grid()\n",
    "plt.show()"
   ]
  },
  {
   "cell_type": "markdown",
   "metadata": {},
   "source": [
    "In principle we could use the linear least sqaures methods to fit:\n",
    "\n",
    "$$\n",
    "\\log\\left(\\frac{p(x)}{1 + p(x)}\\right) = \\sum_{i = 1}^{n} w_i x_i\n",
    "$$\n",
    "\n",
    "In practice, however, it does not make sense, since we are know dealing with probabilities. Instead, we focus on choosing weights the [maximize the likelihood](https://en.wikipedia.org/wiki/Maximum_likelihood_estimation) of observing the known data.\n",
    "\n",
    "Here, we will rely on scikit-learn to take care of maximum likelyhood estimation: the module provides access to different solver that can handle maximum likelyhood estimation with L1 and L2 penalties.\n",
    "\n",
    "We will use the MNIST dataset as a benchmark: the MNIST images represent numerical digits, hence we have 10 classes (0..9). The images have a fixed format (28x28 pixels), which is good, because the input size for a NN should always be constant. If we wanted to classify a larger image we would be forced to rescale it to the size that the network expects (i.e. 28x28).\n",
    "\n",
    "Before the true action can start we need to undertstand the code, and the data that we are dealing with."
   ]
  },
  {
   "cell_type": "markdown",
   "metadata": {},
   "source": [
    "## First of All...\n",
    "\n",
    "If you are using this notebook from Google Colab, you need to fetch the necessary resources by running:"
   ]
  },
  {
   "cell_type": "code",
   "execution_count": null,
   "metadata": {},
   "outputs": [],
   "source": [
    "!mkdir resources\n",
    "!wget https://raw.githubusercontent.com/lompabo/bbs2019dtm/master/lab02/resources/AirQualityUCI.csv\n",
    "!mv AirQualityUCI.csv resources\n",
    "!wget https://raw.githubusercontent.com/lompabo/bbs2019dtm/master/lab02/resources/lr_train.txt\n",
    "!mv lr_train.txt resources/\n",
    "!wget https://raw.githubusercontent.com/lompabo/bbs2019dtm/master/lab02/resources/lr_test.txt\n",
    "!mv lr_test.txt resources/\n",
    "!wget https://raw.githubusercontent.com/lompabo/bbs2019dtm/master/lab02/lutil.py"
   ]
  },
  {
   "cell_type": "markdown",
   "metadata": {},
   "source": [
    "## Loading the Data\n",
    "\n",
    "Scikit-learn provides automated access to a small selection of commonly used datasets, which include MNIST. Hence, importing the data in our case is super-simple:"
   ]
  },
  {
   "cell_type": "code",
   "execution_count": 3,
   "metadata": {},
   "outputs": [
    {
     "name": "stderr",
     "output_type": "stream",
     "text": [
      "/usr/local/lib/python3.7/site-packages/sklearn/utils/deprecation.py:77: DeprecationWarning: Function fetch_mldata is deprecated; fetch_mldata was deprecated in version 0.20 and will be removed in version 0.22\n",
      "  warnings.warn(msg, category=DeprecationWarning)\n",
      "/usr/local/lib/python3.7/site-packages/sklearn/utils/deprecation.py:77: DeprecationWarning: Function mldata_filename is deprecated; mldata_filename was deprecated in version 0.20 and will be removed in version 0.22\n",
      "  warnings.warn(msg, category=DeprecationWarning)\n"
     ]
    }
   ],
   "source": [
    "import numpy as np\n",
    "from sklearn.datasets import fetch_mldata\n",
    "mnist = fetch_mldata('MNIST original', data_home='resources')\n",
    "index = np.arange(len(mnist.data))\n",
    "np.random.seed(100)\n",
    "np.random.shuffle(index)\n",
    "train_idx, test_idx = index[:60000], index[60000:]\n",
    "x_train, x_test = mnist.data[train_idx], mnist.data[test_idx]\n",
    "y_train, y_test = mnist.target[train_idx], mnist.target[test_idx]\n",
    "y_train, y_test = y_train.astype(int), y_test.astype(int)"
   ]
  },
  {
   "cell_type": "markdown",
   "metadata": {},
   "source": [
    "The MNIST data is now stored in a two pairs of numpy arrays:\n",
    "\n",
    "* The `x_train` and `x_test` arrays (input) contain the greyscale value of each pixel (the matrix is store as a single sequence)\n",
    "* The `y_train` and `y_test` arrays (input) contain the class as an integer (i.e. the represented digit)\n",
    "\n",
    "Let's try and see the size of `x_train`:\n",
    "\n",
    "x_train.shape\n",
    "\n",
    "60000 is the dataset size, the two 28s are respective the width and height of the images.\n",
    "\n",
    "We can also view the first item in the vector (reshaped as a 28x28 matrix):"
   ]
  },
  {
   "cell_type": "code",
   "execution_count": 4,
   "metadata": {},
   "outputs": [
    {
     "name": "stdout",
     "output_type": "stream",
     "text": [
      "[  0   0   0   0   0   0   0   0   0   0   0   0   0   0   0   0   0   0\n",
      "   0   0   0   0   0   0   0   0   0   0   0   0   0   0   0   0   0   0\n",
      "   0   0   0   0   0   0   0   0   0   0   0   0   0   0   0   0   0   0\n",
      "   0   0   0   0   0   0   0   0   0   0   0   0   0   0   0   0   0   0\n",
      "   0   0   0   0   0   0   0   0   0   0   0   0   0   0   0   0   0   0\n",
      "   0   0   0   0   0   0   0   0   0   0   0   0   0   0   0   0   0   0\n",
      "   0   0   0   0   0   0   0   0   0   0   0   0   0   0   0   0   0   0\n",
      "   0   0   0   0   0   0   0   0   0   0   0   0   0   0   0   0   0   0\n",
      "   0   0   0   0   0   0   0   0   0   0   0   0   0   0   0   0   0   0\n",
      "   0   0   0   0   0   0   0   0   0   0   0   0   0   0   0   0   0   0\n",
      "  38 163 255 254 254 176  47   0   0   0   0   0   0   0   0   0   0   0\n",
      "   0   0   0   0   0   0   0   0  12 113 243 253 254 253 253 253 247  53\n",
      "   0   0   0   0   0   0   0   0   0   0   0   0   0   0   0   0   0   0\n",
      "  68 253 253 240  69  36 222 253 253 231  93   0   0   0   0   0   0   0\n",
      "   0   0   0   0   0   0   0   0   0  32 224 253 232  35   0   0  60 230\n",
      " 253 254 147   0   0   0   0   0   0   0   0   0   0   0   0   0   0   0\n",
      "   0 106 253 240  61   0   0   0   0 167 253 254 166   0   0   0   0   0\n",
      "   0   0   0   0   0   0   0   0   0   0   0 222 254 191   0   0   0   0\n",
      "   0 110 254 255 199   0   0   0   0   0   0   0   0   0   0   0   0   0\n",
      "   0   0  53 254 253  75   0   0   0   0   8 204 253 254 179   0   0   0\n",
      "   0   0   0   0   0   0   0   0   0   0   0   0  46 241 253  62   0   0\n",
      "   0  28 145 253 253 254  63   0   0   0   0   0   0   0   0   0   0   0\n",
      "   0   0   0   0   0 125 253 232  70   6   6 166 253 253 253 216  10   0\n",
      "   0   0   0   0   0   0   0   0   0   0   0   0   0   0   0  47 214 253\n",
      " 253 201 202 253 253 253 188  26   0   0   0   0   0   0   0   0   0   0\n",
      "   0   0   0   0   0   0   0   0  20 104 212 254 255 254 254 151   0   0\n",
      "   0   0   0   0   0   0   0   0   0   0   0   0   0   0   0   0   0   0\n",
      "   0   0  44 253 254 241  76   4   0   0   0   0   0   0   0   0   0   0\n",
      "   0   0   0   0   0   0   0   0   0   0   0  19 213 253 254  76   0   0\n",
      "   0   0  14   0   0   0   0   0   0   0   0   0   0   0   0   0   0   0\n",
      "   0   0   4 181 253 253 119   4   0   0   0  64  33   0   0   0   0   0\n",
      "   0   0   0   0   0   0   0   0   0   0   0   0  87 253 253 188   0   0\n",
      "   0   0   0 163  18   0   0   0   0   0   0   0   0   0   0   0   0   0\n",
      "   0   0   0  47 247 254 209   0   0   0   0   0   0 163  18   0   0   0\n",
      "   0   0   0   0   0   0   0   0   0   0   0   0  20 209 253 245  49   0\n",
      "   0   0   0   0   0  96  14   0   0   0   0   0   0   0   0   0   0   0\n",
      "   0   0   0   3 146 254 253 158   0   0   0   0   0   0   0   0   0   0\n",
      "   0   0   0   0   0   0   0   0   0   0   0   0   0  97 253 248 163   8\n",
      "   0   0   0   0   0   0   0   0   0   0   0   0   0   0   0   0   0   0\n",
      "   0   0   0   0   0  96 227 148   0   0   0   0   0   0   0   0   0   0\n",
      "   0   0   0   0   0   0   0   0   0   0   0   0   0   0   0   0   0   0\n",
      "   0   0   0   0   0   0   0   0   0   0   0   0   0   0   0   0   0   0\n",
      "   0   0   0   0   0   0   0   0   0   0   0   0   0   0   0   0   0   0\n",
      "   0   0   0   0   0   0   0   0   0   0]\n"
     ]
    }
   ],
   "source": [
    "print(x_train[0])"
   ]
  },
  {
   "cell_type": "markdown",
   "metadata": {},
   "source": [
    "Well, that was not very helpful... The only clear thing is that the greyscale data is stored using integer numbers. In particular, we are using numbers between 0 and 255 (i.e. one byte).\n",
    "\n",
    "But this is an image, right? We we _should_ be able to display it. We can do it via the `imshow` function in matplotlib."
   ]
  },
  {
   "cell_type": "code",
   "execution_count": 5,
   "metadata": {},
   "outputs": [
    {
     "data": {
      "image/png": "[encoded data removed]",
      "text/plain": [
       "<Figure size 432x288 with 1 Axes>"
      ]
     },
     "metadata": {
      "needs_background": "light"
     },
     "output_type": "display_data"
    }
   ],
   "source": [
    "from matplotlib import pyplot as plt\n",
    "\n",
    "plt.figure()\n",
    "plt.imshow(x_train[0].reshape(28, 28), cmap='Greys')\n",
    "plt.show()"
   ]
  },
  {
   "cell_type": "markdown",
   "metadata": {},
   "source": [
    "Good: that's much clearer now! The \"Greys\" passed via the `cmap` parameters tells matplotlib that the numbers should rendered using a scale of grey hues."
   ]
  },
  {
   "cell_type": "markdown",
   "metadata": {},
   "source": [
    "And what about the classes? Let's inspect the `y_train` array:"
   ]
  },
  {
   "cell_type": "code",
   "execution_count": 6,
   "metadata": {},
   "outputs": [
    {
     "name": "stdout",
     "output_type": "stream",
     "text": [
      "[9 1 3 2]\n"
     ]
    }
   ],
   "source": [
    "print(y_train[0:4])"
   ]
  },
  {
   "cell_type": "markdown",
   "metadata": {},
   "source": [
    "The classes are just integers, each representing the corresponding digit."
   ]
  },
  {
   "cell_type": "markdown",
   "metadata": {},
   "source": [
    "## Preprocessing\n",
    "\n",
    "As usual, before we can start with the training we need to do a little bit of preprocessing. Specifically, we need to normalize the input."
   ]
  },
  {
   "cell_type": "code",
   "execution_count": 7,
   "metadata": {},
   "outputs": [],
   "source": [
    "# Normalize the input data\n",
    "x_train_norm = x_train / 255.0\n",
    "x_test_norm = x_test / 255.0"
   ]
  },
  {
   "cell_type": "markdown",
   "metadata": {},
   "source": [
    "## The Actual Model\n",
    "\n",
    "We can now build a first model. Full training would requires quite some time, so we limit the number of iterations and we reduce the tolerance:"
   ]
  },
  {
   "cell_type": "code",
   "execution_count": 8,
   "metadata": {},
   "outputs": [
    {
     "name": "stderr",
     "output_type": "stream",
     "text": [
      "/usr/local/lib/python3.7/site-packages/sklearn/linear_model/logistic.py:460: FutureWarning: Default multi_class will be changed to 'auto' in 0.22. Specify the multi_class option to silence this warning.\n",
      "  \"this warning.\", FutureWarning)\n",
      "/usr/local/lib/python3.7/site-packages/sklearn/linear_model/sag.py:334: ConvergenceWarning: The max_iter was reached which means the coef_ did not converge\n",
      "  \"the coef_ did not converge\", ConvergenceWarning)\n"
     ]
    },
    {
     "data": {
      "text/plain": [
       "LogisticRegression(C=1.0, class_weight=None, dual=False, fit_intercept=True,\n",
       "          intercept_scaling=1, max_iter=10, multi_class='warn',\n",
       "          n_jobs=None, penalty='l2', random_state=None, solver='saga',\n",
       "          tol=0.0001, verbose=0, warm_start=False)"
      ]
     },
     "execution_count": 8,
     "metadata": {},
     "output_type": "execute_result"
    }
   ],
   "source": [
    "from sklearn import linear_model\n",
    "\n",
    "model = linear_model.LogisticRegression(solver='saga', tol=1e-4, max_iter=10)\n",
    "model.fit(x_train, y_train)"
   ]
  },
  {
   "cell_type": "markdown",
   "metadata": {},
   "source": [
    "Let's think about something: we have originally described logistic regression for binary classification, but we have 10 classes here (one per digit).\n",
    "\n",
    "How does logistic regression handle this?\n",
    "\n",
    "A first method consists in turnining a single classification problem with $n$ classes into $n$ classification problems. Within each problem, the goal is to separate the considered class from all the others. This is the default behavior in scikit-learn. At prediction time, each classifier will output a probability and the class with the highest probability will \"win\".\n",
    "\n",
    "We can now evaluate the performance of the model. The actual output of the classifier is a set of probabilities, i.e."
   ]
  },
  {
   "cell_type": "code",
   "execution_count": 9,
   "metadata": {},
   "outputs": [
    {
     "data": {
      "text/plain": [
       "array([[1.46767226e-04, 6.48465031e-08, 8.49870118e-04, 1.95823172e-04,\n",
       "        6.86001800e-03, 6.35925639e-04, 9.98539190e-07, 7.79310125e-02,\n",
       "        2.31164305e-02, 8.90263089e-01],\n",
       "       [1.26951352e-06, 8.36044232e-01, 2.51273565e-03, 5.55720635e-02,\n",
       "        1.00910691e-04, 1.02084983e-02, 6.19372001e-03, 3.14527520e-03,\n",
       "        5.40107177e-02, 3.22105772e-02]])"
      ]
     },
     "execution_count": 9,
     "metadata": {},
     "output_type": "execute_result"
    }
   ],
   "source": [
    "pred_train = model.predict_proba(x_train)\n",
    "pred_train[:2]"
   ]
  },
  {
   "cell_type": "markdown",
   "metadata": {},
   "source": [
    "We can convert the probabilities in a single class by taking the maximum. Scikit-learn can do this for us:"
   ]
  },
  {
   "cell_type": "code",
   "execution_count": 10,
   "metadata": {},
   "outputs": [
    {
     "name": "stdout",
     "output_type": "stream",
     "text": [
      "[9 1]\n",
      "[9 1]\n"
     ]
    }
   ],
   "source": [
    "pred_train = model.predict(x_train)\n",
    "print(y_train[:2])\n",
    "print(pred_train[:2])"
   ]
  },
  {
   "cell_type": "markdown",
   "metadata": {},
   "source": [
    "Next, we can compute the accuracy on the training and the test set:"
   ]
  },
  {
   "cell_type": "code",
   "execution_count": 11,
   "metadata": {},
   "outputs": [
    {
     "name": "stdout",
     "output_type": "stream",
     "text": [
      "Accuracy on the training set: 0.920467\n",
      "Accuracy on the test set: 0.912600\n"
     ]
    }
   ],
   "source": [
    "from sklearn import metrics\n",
    "\n",
    "pred_train = model.predict(x_train)\n",
    "pred_test = model.predict(x_test)\n",
    "\n",
    "acc_train = metrics.accuracy_score(y_train, pred_train)\n",
    "acc_test = metrics.accuracy_score(y_test, pred_test)\n",
    "\n",
    "print('Accuracy on the training set: %f' % acc_train)\n",
    "print('Accuracy on the test set: %f' % acc_test)"
   ]
  },
  {
   "cell_type": "markdown",
   "metadata": {},
   "source": [
    "Which is very good!"
   ]
  },
  {
   "cell_type": "markdown",
   "metadata": {},
   "source": [
    "Let's get a little bit more into the details.\n",
    "\n",
    "By default (as we mentioned), scikit-learn employs adopt a \"one vs other\" scheme. This means that in practice we are training 10 different Logistic Regression classifiers, one per class.\n",
    "\n",
    "It is also possible to perform a so-called multinomial logistic regression, where the optimizer is made aware that the are multiple (unordered) classes:"
   ]
  },
  {
   "cell_type": "code",
   "execution_count": 12,
   "metadata": {},
   "outputs": [
    {
     "name": "stderr",
     "output_type": "stream",
     "text": [
      "/usr/local/lib/python3.7/site-packages/sklearn/linear_model/sag.py:334: ConvergenceWarning: The max_iter was reached which means the coef_ did not converge\n",
      "  \"the coef_ did not converge\", ConvergenceWarning)\n"
     ]
    },
    {
     "data": {
      "text/plain": [
       "LogisticRegression(C=1.0, class_weight=None, dual=False, fit_intercept=True,\n",
       "          intercept_scaling=1, max_iter=10, multi_class='multinomial',\n",
       "          n_jobs=None, penalty='l2', random_state=None, solver='saga',\n",
       "          tol=0.0001, verbose=0, warm_start=False)"
      ]
     },
     "execution_count": 12,
     "metadata": {},
     "output_type": "execute_result"
    }
   ],
   "source": [
    "model = linear_model.LogisticRegression(solver='saga', tol=1e-4, max_iter=10, multi_class='multinomial')\n",
    "model.fit(x_train, y_train)"
   ]
  },
  {
   "cell_type": "markdown",
   "metadata": {},
   "source": [
    "Let's see the new accuracy:"
   ]
  },
  {
   "cell_type": "code",
   "execution_count": 13,
   "metadata": {},
   "outputs": [
    {
     "name": "stdout",
     "output_type": "stream",
     "text": [
      "Accuracy on the training set: 0.933033\n",
      "Accuracy on the test set: 0.922300\n"
     ]
    }
   ],
   "source": [
    "pred_train = model.predict(x_train)\n",
    "pred_test = model.predict(x_test)\n",
    "\n",
    "acc_train = metrics.accuracy_score(y_train, pred_train)\n",
    "acc_test = metrics.accuracy_score(y_test, pred_test)\n",
    "\n",
    "print('Accuracy on the training set: %f' % acc_train)\n",
    "print('Accuracy on the test set: %f' % acc_test)"
   ]
  },
  {
   "cell_type": "markdown",
   "metadata": {},
   "source": [
    "Slighly better!\n",
    "\n",
    "Since we are dealing with images, the coefficients can be interpreted in terms of sensitivity to each pixel. This allows us to plot the coefficient as an \"mask\" which visually depicts which pixel each terms of the Logistic Regressor output is looking for:"
   ]
  },
  {
   "cell_type": "code",
   "execution_count": 14,
   "metadata": {},
   "outputs": [
    {
     "data": {
      "image/png": "[encoded data removed]",
      "text/plain": [
       "<Figure size 1440x1440 with 10 Axes>"
      ]
     },
     "metadata": {
      "needs_background": "light"
     },
     "output_type": "display_data"
    }
   ],
   "source": [
    "plt.figure(figsize=(20, 20))\n",
    "for i in range(10):\n",
    "    plt.subplot(5, 2, i+1)\n",
    "    plt.title('Number %d' % i)\n",
    "    plt.imshow(model.coef_[i].reshape(28, 28), cmap='coolwarm')\n",
    "plt.show()"
   ]
  }
 ],
 "metadata": {
  "kernelspec": {
   "display_name": "Python 3",
   "language": "python",
   "name": "python3"
  },
  "language_info": {
   "codemirror_mode": {
    "name": "ipython",
    "version": 3
   },
   "file_extension": ".py",
   "mimetype": "text/x-python",
   "name": "python",
   "nbconvert_exporter": "python",
   "pygments_lexer": "ipython3",
   "version": "3.7.3"
  }
 },
 "nbformat": 4,
 "nbformat_minor": 2
}
