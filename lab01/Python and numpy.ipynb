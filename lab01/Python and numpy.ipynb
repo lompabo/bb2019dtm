{
 "cells": [
  {
   "cell_type": "markdown",
   "metadata": {},
   "source": [
    "# Python crash course\n",
    "\n",
    "Author: [Michele Lombardi](mailto:michele.lombardi2@unibo.it)\n",
    "\n",
    "Python is a programming language, designed to be _productive_, _expressive_ and _easy to read_.\n",
    "* No compilation step (unlike C, C# or Java)\n",
    "* Multiple back-ends (you can think of them as \"interpreters\")\n",
    "    * The default back-end employs bytecode just-in-time compilation + a C interpreter\n",
    "\n",
    "Python is not a particularly fast language (quite the opposite, in fact). However:\n",
    "\n",
    "* There is a very large collection of external modules (i.e. libraries/packages)\n",
    "* These external modules are often written in C and very efficient\n",
    "\n",
    "In summary, python offers the combination of:\n",
    "\n",
    "* An extremely productive (but slow) programming language\n",
    "* Very efficient implementation for several \"basic\" operations\n",
    "\n",
    "...And this is what makes is attractive for data scientists:\n",
    "\n",
    "* Python allows one to quickly write flexible scripts for  data analysis...\n",
    "* ...Which can be also quite efficient since the most expensive operations are run by external modules.\n",
    "\n",
    "Here's a plot with trend for open job position based on different queries on a search engine (courtesy of Jear-François Puget):\n",
    "\n",
    "![trends0.png](resources/trends0.png)\n",
    "\n",
    "Just to be super clear: python is the blue line.\n",
    "\n",
    "In orde to run a python program (or python _script_) one usually needs to open a terminal window and then call:\n",
    "\n",
    "```sh\n",
    "python scriptname.py\n",
    "```\n",
    "\n",
    "Instead, we will work with **jupyter notebooks**. "
   ]
  },
  {
   "cell_type": "markdown",
   "metadata": {},
   "source": [
    "## Jupyter notebooks (formerly iptyhon notebooks)\n",
    "\n",
    "This lab session is supported via series of _Jupyter notebooks_. Jupyter is an awsome framework that simplifies the task of writing code interactively.\n",
    "\n",
    "A notebook consists of a sequence of cells, some containing text, and some containing code. Cells that contain code _can be exectuted_: they are passed to a parallel process, which runs the python interpreter. The output is then returned to the notebook and displayed.\n",
    "\n",
    "We don't really need the details: it's enough to understand that each code cell in a notebook can be executed. You can do it in a number of ways:\n",
    "\n",
    "* Press the \">|\" button in the toolbar\n",
    "* Select any option from the \"Cell\" menu\n",
    "* Press `Ctrl+Enter` or `Shift+Enter`\n",
    "\n",
    "Usualy, pressing the keyboard shortcuts is the best way. Occasionally you will need to run again a whole notebook, and that can be conveniently done from the \"Cell\" menu.\n",
    "\n",
    "Note that \"Shift-Enter\" switches to the next cell aftern executing the current one, while `Ctrl+Enter` stays in the current cell.\n",
    "\n",
    "We can operate on a jupyter notebook in two \"modes\":\n",
    "\n",
    "* _Normal_ model (cells have blue borders)\n",
    "* _Edit_ mode (cells have green border)\n",
    "\n",
    "You can always switch to edit mode by pressing `Esc` and to edit mode by pressing `Enter` (or by double-clicking). After executing a cell, the notebook always switches to \"normal\" mode.\n",
    "\n",
    "You can do a number of other useful operations on cells (adding, inserting, deleting...) from the \"Edit\" menu, and in general from the toolbar.\n",
    "\n",
    "If you are a keyboard maniac like me, you can find a quick overview of the available keyboard shortcuts can [on this pdf file](resources/weidadeyue_jupyter-notebook.pdf)."
   ]
  },
  {
   "cell_type": "markdown",
   "metadata": {},
   "source": [
    "## Hello, world\n",
    "\n",
    "Python has probably the simplest \"hello, world\" ever. You just need to write:"
   ]
  },
  {
   "cell_type": "code",
   "execution_count": 2,
   "metadata": {},
   "outputs": [
    {
     "name": "stdout",
     "output_type": "stream",
     "text": [
      "Hello, world!\n"
     ]
    }
   ],
   "source": [
    "print(\"Hello, world!\")"
   ]
  },
  {
   "cell_type": "markdown",
   "metadata": {},
   "source": [
    "Try to execute the above cell: select it and then press `Shift-Enter` (or `Ctrl-Enter`). The string \"Hellow, world!\" should be printed immediately after the cell."
   ]
  },
  {
   "cell_type": "markdown",
   "metadata": {},
   "source": [
    "## Variables in Python\n",
    "\n",
    "Variables in python are loosely typed.\n",
    "\n",
    "* There is no keyword for defining new variables\n",
    "* The type of the content of a variable can change at run time\n",
    "\n",
    "Here are some example, and also a quick list of basic data types:"
   ]
  },
  {
   "cell_type": "code",
   "execution_count": 1,
   "metadata": {},
   "outputs": [],
   "source": [
    "a = 10 # integer (typically C long)\n",
    "b = 2.5 # real-valued numbers (typically C double)\n",
    "c = 'A string with \"quotes\"'\n",
    "d = \"A string with 'apostrophes'\"\n",
    "e = True # A true boolean\n",
    "f = False # A false boolean\n",
    "g = None # Nothing (like \"null\" in Java o \"NULL\" in C)"
   ]
  },
  {
   "cell_type": "markdown",
   "metadata": {},
   "source": [
    "Try to execute the above cell (and do the same with all the ones that will follow)!\n",
    "\n",
    "The strings after the \"#\" character are comments\n",
    "\n",
    "You can also experiment with the code, either by editing the cell or by inserting a new cell, like the one you have below:"
   ]
  },
  {
   "cell_type": "code",
   "execution_count": null,
   "metadata": {
    "collapsed": true
   },
   "outputs": [],
   "source": []
  },
  {
   "cell_type": "markdown",
   "metadata": {},
   "source": [
    "## Arithmetic operators\n",
    "\n",
    "Python supports the usual arithmetic operators:"
   ]
  },
  {
   "cell_type": "code",
   "execution_count": 8,
   "metadata": {},
   "outputs": [
    {
     "name": "stdout",
     "output_type": "stream",
     "text": [
      "8\n",
      "8\n",
      "20\n",
      "3.3333333333333335\n",
      "3.3333333333333335\n",
      "1\n",
      "3.3333333333333335\n",
      "100\n",
      "3.4\n"
     ]
    },
    {
     "data": {
      "text/plain": [
       "0.6666666666666666"
      ]
     },
     "execution_count": 8,
     "metadata": {},
     "output_type": "execute_result"
    }
   ],
   "source": [
    "a = 10 + 2 - 4 # sum and difference\n",
    "b = 10 + (2 - 4) # change of priority (parantheses)\n",
    "c = 10 * 2 # product\n",
    "d = 10 / 3 # integer division\n",
    "e = 10 / float(3) # casting, to force a floating point division\n",
    "f = 10 % 3 # modulus (remainder of integer division)\n",
    "g = 10 / 3.0 # real division\n",
    "h = 10**2 # power\n",
    "i = abs(-3.4) # absolute value\n",
    "\n",
    "print(a)\n",
    "print(b)\n",
    "print(c)\n",
    "print(d)\n",
    "print(e)\n",
    "print(f)\n",
    "print(g)\n",
    "print(h)\n",
    "print(i)\n",
    "\n",
    "a = 3\n",
    "2 / float(a)"
   ]
  },
  {
   "cell_type": "markdown",
   "metadata": {},
   "source": [
    "## Logical operators\n",
    "\n",
    "Logical operators are available as:"
   ]
  },
  {
   "cell_type": "code",
   "execution_count": 7,
   "metadata": {},
   "outputs": [
    {
     "name": "stdout",
     "output_type": "stream",
     "text": [
      "False\n",
      "True\n",
      "False\n"
     ]
    }
   ],
   "source": [
    "v = True\n",
    "w = False\n",
    "a = v and w # Logical \"and\"\n",
    "b = v or w # Logical \"or\"\n",
    "c = not v # not\n",
    "\n",
    "print(a)\n",
    "print(b)\n",
    "print(c)"
   ]
  },
  {
   "cell_type": "markdown",
   "metadata": {},
   "source": [
    "If we are dealing with bits (e.g. with the boolean `True` and `False` values) we can also use bitwise logical operators instead of `and` and `or`"
   ]
  },
  {
   "cell_type": "code",
   "execution_count": 9,
   "metadata": {},
   "outputs": [
    {
     "name": "stdout",
     "output_type": "stream",
     "text": [
      "False False\n",
      "True True\n"
     ]
    }
   ],
   "source": [
    "a2 = v & w\n",
    "b2 = v | w\n",
    "print(a, a2)\n",
    "print(b, b2)"
   ]
  },
  {
   "cell_type": "markdown",
   "metadata": {},
   "source": [
    "## Comparison operators\n",
    "\n",
    "The comparison operators are:"
   ]
  },
  {
   "cell_type": "code",
   "execution_count": 9,
   "metadata": {},
   "outputs": [
    {
     "name": "stdout",
     "output_type": "stream",
     "text": [
      "True\n",
      "True\n",
      "False\n",
      "False\n",
      "False\n",
      "True\n"
     ]
    }
   ],
   "source": [
    "print(5 < 10) # Less than\n",
    "print(5 <= 10) # Less than or equal\n",
    "print(5 == 10) # equal\n",
    "print(5 >= 10) # Greater than or equal\n",
    "print(5 > 10) # Greater than\n",
    "a = 7\n",
    "print(5 <= a <= 10) # Newbie error in C, works in python!"
   ]
  },
  {
   "cell_type": "markdown",
   "metadata": {},
   "source": [
    "## String formatting\n",
    "\n",
    "The `%` operator for string is redefined to allow C-style formatting, e.g.:"
   ]
  },
  {
   "cell_type": "code",
   "execution_count": 14,
   "metadata": {},
   "outputs": [
    {
     "name": "stdout",
     "output_type": "stream",
     "text": [
      "And 1 + 2.000000 = 3.00\n"
     ]
    }
   ],
   "source": [
    "one = 1\n",
    "two = 2.0\n",
    "three = one + two\n",
    "print('And %d + %f = %.2f' % (one, two, three))"
   ]
  },
  {
   "cell_type": "markdown",
   "metadata": {},
   "source": [
    "* `%d` prints an integer\n",
    "* `%f` prints a real\n",
    "* `%.2f` prints a real with two decimals\n",
    "* `% (one, ...)` specifies the source for each field"
   ]
  },
  {
   "cell_type": "markdown",
   "metadata": {},
   "source": [
    "## Lists\n",
    "\n",
    "Lists (mutable sequences) are primitive data structures:"
   ]
  },
  {
   "cell_type": "code",
   "execution_count": 15,
   "metadata": {},
   "outputs": [
    {
     "name": "stdout",
     "output_type": "stream",
     "text": [
      "list\n",
      "['b', 'is', 'a', 'list', 'another element']\n",
      "['b', 'is', 'a', 'list']\n"
     ]
    }
   ],
   "source": [
    "a = ['a', 'is', 'a', 'list']\n",
    "b = ['a', 1, True] # a list with multiple types\n",
    "c = [1, 2, 3]\n",
    "\n",
    "a[0] = 'b' # indexing (traditional)\n",
    "print(a[-1]) # backwards indexing\n",
    "\n",
    "a.append('another element') # append an element\n",
    "print(a)\n",
    "\n",
    "a.pop() # pop last element\n",
    "print(a)"
   ]
  },
  {
   "cell_type": "code",
   "execution_count": 11,
   "metadata": {},
   "outputs": [],
   "source": [
    "a = [1, 2, 3]"
   ]
  },
  {
   "cell_type": "markdown",
   "metadata": {},
   "source": [
    "Lists are objects, i.e. data items with callable methods.\n",
    "\n",
    "Want to know which methods are available?\n",
    "\n",
    "* You can either Google \"python list\"...\n",
    "* ...Or use the jupyter on-line help!\n",
    "\n",
    "Firs, build a list:"
   ]
  },
  {
   "cell_type": "code",
   "execution_count": 16,
   "metadata": {
    "collapsed": true
   },
   "outputs": [],
   "source": [
    "a = [1, 2, 3]"
   ]
  },
  {
   "cell_type": "markdown",
   "metadata": {},
   "source": [
    "Then, use TAB completion. Write:\n",
    "\n",
    "a.[AND THEN HIT \"TAB\"]"
   ]
  },
  {
   "cell_type": "code",
   "execution_count": 17,
   "metadata": {},
   "outputs": [
    {
     "ename": "SyntaxError",
     "evalue": "invalid syntax (<ipython-input-17-a0d310e2b5e6>, line 1)",
     "output_type": "error",
     "traceback": [
      "\u001b[0;36m  File \u001b[0;32m\"<ipython-input-17-a0d310e2b5e6>\"\u001b[0;36m, line \u001b[0;32m1\u001b[0m\n\u001b[0;31m    a.\u001b[0m\n\u001b[0m      ^\u001b[0m\n\u001b[0;31mSyntaxError\u001b[0m\u001b[0;31m:\u001b[0m invalid syntax\n"
     ]
    }
   ],
   "source": [
    "a."
   ]
  },
  {
   "cell_type": "markdown",
   "metadata": {},
   "source": [
    "You should see a pop-up list, from which you can pick a method.\n",
    "\n",
    "Then you can go further: select a method and/or put the cursor a the the end of the method name, then the hit [SHIFT+TAB] "
   ]
  },
  {
   "cell_type": "code",
   "execution_count": null,
   "metadata": {
    "collapsed": true
   },
   "outputs": [],
   "source": [
    "a.append"
   ]
  },
  {
   "cell_type": "markdown",
   "metadata": {},
   "source": [
    "The notebook should display a small (but incredibly useful) help window at the bottom of the page."
   ]
  },
  {
   "cell_type": "markdown",
   "metadata": {},
   "source": [
    "## Tuples\n",
    "\n",
    "Tuples in python are _immutable sequences_. They are also a primitive data structure:"
   ]
  },
  {
   "cell_type": "code",
   "execution_count": 14,
   "metadata": {},
   "outputs": [
    {
     "name": "stdout",
     "output_type": "stream",
     "text": [
      "a\n"
     ]
    },
    {
     "ename": "TypeError",
     "evalue": "'tuple' object does not support item assignment",
     "output_type": "error",
     "traceback": [
      "\u001b[0;31m---------------------------------------------------------------------------\u001b[0m",
      "\u001b[0;31mTypeError\u001b[0m                                 Traceback (most recent call last)",
      "\u001b[0;32m<ipython-input-14-0f713eacff90>\u001b[0m in \u001b[0;36m<module>\u001b[0;34m()\u001b[0m\n\u001b[1;32m      3\u001b[0m \u001b[0;34m\u001b[0m\u001b[0m\n\u001b[1;32m      4\u001b[0m \u001b[0mprint\u001b[0m\u001b[0;34m(\u001b[0m\u001b[0ma\u001b[0m\u001b[0;34m[\u001b[0m\u001b[0;36m0\u001b[0m\u001b[0;34m]\u001b[0m\u001b[0;34m)\u001b[0m\u001b[0;34m\u001b[0m\u001b[0m\n\u001b[0;32m----> 5\u001b[0;31m \u001b[0ma\u001b[0m\u001b[0;34m[\u001b[0m\u001b[0;36m0\u001b[0m\u001b[0;34m]\u001b[0m \u001b[0;34m=\u001b[0m \u001b[0;34m'b'\u001b[0m\u001b[0;34m\u001b[0m\u001b[0m\n\u001b[0m\u001b[1;32m      6\u001b[0m \u001b[0;34m\u001b[0m\u001b[0m\n\u001b[1;32m      7\u001b[0m \u001b[0;31m# a[0] = 'b' # ERROR!!! Tuples are immutable (comment this line to run the rest)\u001b[0m\u001b[0;34m\u001b[0m\u001b[0;34m\u001b[0m\u001b[0m\n",
      "\u001b[0;31mTypeError\u001b[0m: 'tuple' object does not support item assignment"
     ]
    }
   ],
   "source": [
    "a = ('a', 'is', 'a', 'tuple')\n",
    "b = ('a', 1, True) # a tuple with multiple types\n",
    "\n",
    "print(a[0])\n",
    "a[0] = 'b'\n",
    "\n",
    "# a[0] = 'b' # ERROR!!! Tuples are immutable (comment this line to run the rest)\n",
    "a = ('b', a[1], a[2], a[3]) # This works\n",
    "print(a[-1]) # backwards indexing\n",
    "\n",
    "print(len(a)) # number of elements"
   ]
  },
  {
   "cell_type": "markdown",
   "metadata": {},
   "source": [
    "In the code, `len` is a function that returns the number of elemnets in the tuples. It works for most data structures in python (including lists)."
   ]
  },
  {
   "cell_type": "markdown",
   "metadata": {},
   "source": [
    "Tuples have \"superpowers\" ;-)"
   ]
  },
  {
   "cell_type": "code",
   "execution_count": 15,
   "metadata": {},
   "outputs": [
    {
     "name": "stdout",
     "output_type": "stream",
     "text": [
      "10 20\n",
      "1 2 3\n"
     ]
    }
   ],
   "source": [
    "# tuple assignment\n",
    "a, b = 10, 20\n",
    "\n",
    "# tuple unpacking\n",
    "c = (1, 2, 3)\n",
    "d, e, f = c \n",
    "# works with every iterable sequence!\n",
    "d, e, f = [1, 2, 3]\n",
    "\n",
    "# tuple printing\n",
    "print(d, e, f) # automatic separator: space"
   ]
  },
  {
   "cell_type": "markdown",
   "metadata": {},
   "source": [
    "You can obtain more help (and see the other available methods) in the usual way."
   ]
  },
  {
   "cell_type": "markdown",
   "metadata": {},
   "source": [
    "## Dictionaries\n",
    "\n",
    "Dictionaries (i.e. maps) are also primitive data structures in python:"
   ]
  },
  {
   "cell_type": "code",
   "execution_count": 17,
   "metadata": {
    "scrolled": true
   },
   "outputs": [
    {
     "name": "stdout",
     "output_type": "stream",
     "text": [
      "gigi\n",
      "{'name': 'pino', 'age': 23}\n",
      "2\n",
      "dict_keys(['name', 'age'])\n",
      "dict_values(['pino', 23])\n",
      "dict_items([('name', 'pino'), ('age', 23)])\n"
     ]
    }
   ],
   "source": [
    "a = {'name':'gigi', 'age':23} # key:value pairs\n",
    "b = {'name':'gigi', 23:'age'} # keys of different types\n",
    "# a key can be of any immutable type\n",
    "c = {(0, 1):'a tuple as key!'}\n",
    "\n",
    "print(a['name']) # prints 'gigi'\n",
    "\n",
    "a['name'] = 'pino'\n",
    "print(a)\n",
    "\n",
    "print(len(a)) # number of items\n",
    "print(a.keys()) # list of keys\n",
    "print(a.values()) # list of values\n",
    "print(a.items()) # list of (key, value) tuples"
   ]
  },
  {
   "cell_type": "markdown",
   "metadata": {},
   "source": [
    "You can get more help in the usual way."
   ]
  },
  {
   "cell_type": "markdown",
   "metadata": {},
   "source": [
    "## Sets\n",
    "\n",
    "The last primitive data structure that we will see is the _set_, i.e. a non-order collections of items without repetitions."
   ]
  },
  {
   "cell_type": "code",
   "execution_count": 18,
   "metadata": {},
   "outputs": [
    {
     "name": "stdout",
     "output_type": "stream",
     "text": [
      "{1, 2, 3}\n",
      "3\n"
     ]
    }
   ],
   "source": [
    "a = [1, 1, 2, 2, 3, 3] # This is list\n",
    "b = set(a) # returns {1, 2, 3} (a set obtained from the list)\n",
    "c = {1, 1, 2, 2, 3, 3} # builds {1, 2, 3}\n",
    "print(c)\n",
    "\n",
    "b.add(4) # add an element\n",
    "b.remove(3) # remove an element\n",
    "\n",
    "print(len(b)) # number of elements"
   ]
  },
  {
   "cell_type": "markdown",
   "metadata": {},
   "source": [
    "## Operators for collection\n",
    "\n",
    "Some operators have ad hoc behavior when applied to collections:"
   ]
  },
  {
   "cell_type": "code",
   "execution_count": 20,
   "metadata": {},
   "outputs": [
    {
     "name": "stdout",
     "output_type": "stream",
     "text": [
      "30\n",
      "True\n",
      "True\n",
      "False\n"
     ]
    }
   ],
   "source": [
    "a = [1, 2, 3] + [4, 5] # list concatenation\n",
    "b = (1, 2, 3) + (4, 5) # tuple contatenation\n",
    "\n",
    "print(sum(a) + sum(b)) # sum (lists and tuples)\n",
    "\n",
    "print(2 in a) # membership testing (any collection)\n",
    "\n",
    "c = {'a':1, 'b':2}\n",
    "print('a' in c) # \"in\" looks for keys in dictionaries\n",
    "print(1 in c) # so this is False"
   ]
  },
  {
   "cell_type": "markdown",
   "metadata": {},
   "source": [
    "Note in particular the `sum` function and the `in` operator"
   ]
  },
  {
   "cell_type": "markdown",
   "metadata": {},
   "source": [
    "## Control flow in python\n",
    "\n",
    "* Instructions end when the line ends (no final \";\")\n",
    "* What if we need instructions on multiple lines?"
   ]
  },
  {
   "cell_type": "code",
   "execution_count": 26,
   "metadata": {},
   "outputs": [
    {
     "name": "stdout",
     "output_type": "stream",
     "text": [
      "97\n",
      "97\n"
     ]
    }
   ],
   "source": [
    "print(1 + 2 + 3 + 4 + 5 + 6 + 7 + 9 + 10 + 11 + 12 + \n",
    "      13 + 14) # You can use \"\\\" to break a line\n",
    "print (1 + 2 + 3 + 4 + 5 + 6 + 7 + 9 + 10 + 11 + 12 +\n",
    "       13 + 14) # But there's no need to do that in parentheses"
   ]
  },
  {
   "cell_type": "markdown",
   "metadata": {},
   "source": [
    "* There are no \"{}\" block delimiters!\n",
    "* Blocks are defined _via indentation_\n",
    "\n",
    "Some practical examples of blocks inside **conditional instructions**:"
   ]
  },
  {
   "cell_type": "code",
   "execution_count": 30,
   "metadata": {},
   "outputs": [
    {
     "name": "stdout",
     "output_type": "stream",
     "text": [
      "Big number\n"
     ]
    }
   ],
   "source": [
    "b = 10\n",
    "if -1 <= b <= 1: # no parentheses needed\n",
    "    b *= 2;\n",
    "    print('b = %f' % b) # no need for parantheses\n",
    "                       # with a single term\n",
    "elif b > 1:  # \"elif\"/\"else\" are optional\n",
    "    print('Big number') # different block, different indentation\n",
    "else:\n",
    "    print('Small number')"
   ]
  },
  {
   "cell_type": "markdown",
   "metadata": {},
   "source": [
    "If the block consists of a single instruction, it can stay on the same line as the `if`:"
   ]
  },
  {
   "cell_type": "code",
   "execution_count": 31,
   "metadata": {},
   "outputs": [
    {
     "name": "stdout",
     "output_type": "stream",
     "text": [
      "10\n"
     ]
    }
   ],
   "source": [
    "if b > 0: print(b)"
   ]
  },
  {
   "cell_type": "markdown",
   "metadata": {},
   "source": [
    "**For loops** have the following syntax:"
   ]
  },
  {
   "cell_type": "code",
   "execution_count": 21,
   "metadata": {},
   "outputs": [
    {
     "name": "stdout",
     "output_type": "stream",
     "text": [
      "first\n",
      "second\n",
      "third\n",
      "0\n",
      "1\n",
      "2\n",
      "3\n",
      "4\n",
      "5\n",
      "6\n",
      "7\n",
      "8\n",
      "9\n",
      "1\n",
      "2\n",
      "3\n",
      "4\n",
      "5\n",
      "0 three\n",
      "1 item\n",
      "2 list\n",
      "0 5\n",
      "1 6\n",
      "2 7\n",
      "3 8\n",
      "4 9\n"
     ]
    }
   ],
   "source": [
    "for x in ['first', 'second', 'third']:\n",
    "    print(x)\n",
    "    \n",
    "for i in range(10):\n",
    "    print(i)\n",
    "\n",
    "for i in range(10): # range returns [0,..., 9]\n",
    "    if i == 0: continue # continue, as in C\n",
    "    if i > 5: break # break, as in C\n",
    "    print(i)\n",
    "\n",
    "# enumerate returns a list of (index, item) tuples\n",
    "# they can be \"separated\" via tuple unpacking\n",
    "for i, x in enumerate(['three', 'item', 'list']):\n",
    "    print(i, x)\n",
    "\n",
    "# \"zip\" returns a list of tuples\n",
    "# range(x, y) = list of integers between x and y-1\n",
    "for x, y in zip(range(5), range(5, 10)):\n",
    "    print(x, y) # \"0 5\" \"1 6\" \"2 7\" ..."
   ]
  },
  {
   "cell_type": "markdown",
   "metadata": {},
   "source": [
    "The `enumerate` function is particularly useful when we need to iterate over both items and indices. In many case, `zip` can be used to avoid indices altogether."
   ]
  },
  {
   "cell_type": "markdown",
   "metadata": {},
   "source": [
    "**While loops** are also available:"
   ]
  },
  {
   "cell_type": "code",
   "execution_count": 33,
   "metadata": {},
   "outputs": [
    {
     "name": "stdout",
     "output_type": "stream",
     "text": [
      "10\n",
      "9\n",
      "8\n",
      "7\n",
      "6\n",
      "5\n",
      "4\n",
      "3\n",
      "2\n",
      "1\n"
     ]
    }
   ],
   "source": [
    "a = 10\n",
    "while a > 0:\n",
    "    print(a)\n",
    "    a -= 1 # decrement (no ++ or -- operators)"
   ]
  },
  {
   "cell_type": "markdown",
   "metadata": {},
   "source": [
    "## Comprehensions\n",
    "\n",
    "Comprehensions are a compact _syntactical construct to build and fill data structures on the fly_. Some examples:"
   ]
  },
  {
   "cell_type": "code",
   "execution_count": 23,
   "metadata": {},
   "outputs": [
    {
     "data": {
      "text/plain": [
       "[4, 16, 36, 64, 100, 144, 196]"
      ]
     },
     "execution_count": 23,
     "metadata": {},
     "output_type": "execute_result"
    }
   ],
   "source": [
    "[v**2 for v in range(1, 16) if v % 2 == 0]"
   ]
  },
  {
   "cell_type": "code",
   "execution_count": 34,
   "metadata": {
    "collapsed": true
   },
   "outputs": [],
   "source": [
    "# list comprehension\n",
    "a = [i**2 for i in range(5) if i % 2 == 0]\n",
    "\n",
    "# set comprehension\n",
    "b = {i**2 for i in range(5) if i % 2 == 0}\n",
    "\n",
    "# dictionary comprehension (<key>:<expr>)\n",
    "c = {i : i**2 for i in range(5) if i % 2 == 0}\n",
    "\n",
    "# multiple levels\n",
    "a = {(i,j) : 0 for i in range(10)\n",
    "               for j in range(10)}"
   ]
  },
  {
   "cell_type": "markdown",
   "metadata": {},
   "source": [
    "The general syntax is (using lists as examples):\n",
    "\n",
    "```\n",
    "<list comprehension> ::= [<generator expression>]\n",
    "<generator expression> ::= <expr>\n",
    "                           {for <var> in <collection>\n",
    "                            [if <condition>]}\n",
    "```"
   ]
  },
  {
   "cell_type": "markdown",
   "metadata": {},
   "source": [
    "## Functions\n",
    "\n",
    "Functions can be defined using the syntax:"
   ]
  },
  {
   "cell_type": "code",
   "execution_count": 35,
   "metadata": {
    "collapsed": true
   },
   "outputs": [],
   "source": [
    "# Simple function\n",
    "def f1(x):\n",
    "    return x**2;\n",
    "\n",
    "# Function within function\n",
    "def f3(x):\n",
    "    a = 10\n",
    "    def f4(x): # scope includes that of f3\n",
    "        return x*a; # f4 can access local vars of f3\n",
    "    return f4(x)"
   ]
  },
  {
   "cell_type": "code",
   "execution_count": 25,
   "metadata": {},
   "outputs": [
    {
     "data": {
      "text/plain": [
       "(42, 21)"
      ]
     },
     "execution_count": 25,
     "metadata": {},
     "output_type": "execute_result"
    }
   ],
   "source": [
    "def f():\n",
    "    return 42, 21\n",
    "\n",
    "a, b = f()\n",
    "a, b"
   ]
  },
  {
   "cell_type": "markdown",
   "metadata": {},
   "source": [
    "As in many other programming languages, the return function specifies what the function should send back to the caller.\n",
    "\n",
    "In python, functions have access to the variables in the environment in which they are defined (e.g. `f4` can access variables defined by `f3`).\n",
    "\n",
    "* This can be very useful at times...\n",
    "* ...And it's incredibly messy in many other occasions"
   ]
  },
  {
   "cell_type": "markdown",
   "metadata": {},
   "source": [
    "It is possible to specify _named arguments_ and _default values_ for functions:"
   ]
  },
  {
   "cell_type": "code",
   "execution_count": 36,
   "metadata": {},
   "outputs": [
    {
     "name": "stdout",
     "output_type": "stream",
     "text": [
      "42\n",
      "13\n",
      "3\n"
     ]
    }
   ],
   "source": [
    "def the_answer_is(res = 42):\n",
    "    return res\n",
    "\n",
    "print(the_answer_is()) # prints 42\n",
    "print(the_answer_is(13)) # prints 13\n",
    "print(the_answer_is(res=3)) # prints 3"
   ]
  },
  {
   "cell_type": "markdown",
   "metadata": {},
   "source": [
    "Python incorporate some elements of _functional programming_. In particular, functions are objects!\n",
    "\n",
    "Here, `tranform` calls the function passed as argument (in the `f` variable) on each element of the `x` collection:"
   ]
  },
  {
   "cell_type": "code",
   "execution_count": 37,
   "metadata": {},
   "outputs": [
    {
     "data": {
      "text/plain": [
       "[2, 4, 6]"
      ]
     },
     "execution_count": 37,
     "metadata": {},
     "output_type": "execute_result"
    }
   ],
   "source": [
    "def transform(x, f):\n",
    "    return [f(v) for v in x]\n",
    "\n",
    "def g(x):\n",
    "    return 2*x;\n",
    "\n",
    "transform([1, 2, 3], g)"
   ]
  },
  {
   "cell_type": "markdown",
   "metadata": {},
   "source": [
    "Functions are objects are very handy in some situation. One of them is sorting collections:"
   ]
  },
  {
   "cell_type": "code",
   "execution_count": 39,
   "metadata": {},
   "outputs": [
    {
     "name": "stdout",
     "output_type": "stream",
     "text": [
      "gianni\n",
      "gino\n",
      "gigi\n"
     ]
    }
   ],
   "source": [
    "voti = [('gigi', 20), ('gianni', 30), ('gino', 24)]\n",
    "\n",
    "def f(t): return -t[1]\n",
    "\n",
    "# sorted returns a sorted copy of the collection\n",
    "# key = score function to be used for sorting\n",
    "for name, score in sorted(voti, key=f):\n",
    "    print(name) # prints gianni, gino, gigi"
   ]
  },
  {
   "cell_type": "markdown",
   "metadata": {},
   "source": [
    "When we need a small function for an ad-hoc task (e.g. sorting), we can use a nameles function (aka \"lambda function\" instead).\n",
    "\n",
    "This code is equivalent to the one above, but it avoids the explicit definition of the score function:"
   ]
  },
  {
   "cell_type": "code",
   "execution_count": 40,
   "metadata": {},
   "outputs": [
    {
     "name": "stdout",
     "output_type": "stream",
     "text": [
      "gianni\n",
      "gino\n",
      "gigi\n"
     ]
    }
   ],
   "source": [
    "voti = [('gigi', 20), ('gianni', 30), ('gino', 24)]\n",
    "\n",
    "# sorted returns a sorted copy of the collection\n",
    "# key = score function to be used for sorting\n",
    "for name, score in sorted(voti, key=lambda t: -t[1]):\n",
    "    print(name) # prints gianni, gino, gigi"
   ]
  },
  {
   "cell_type": "markdown",
   "metadata": {},
   "source": [
    "The lambda function is constructed by:"
   ]
  },
  {
   "cell_type": "code",
   "execution_count": 41,
   "metadata": {},
   "outputs": [
    {
     "data": {
      "text/plain": [
       "<function __main__.<lambda>>"
      ]
     },
     "execution_count": 41,
     "metadata": {},
     "output_type": "execute_result"
    }
   ],
   "source": [
    "lambda t: -t[1]"
   ]
  },
  {
   "cell_type": "markdown",
   "metadata": {},
   "source": [
    "The general syntax is:\n",
    "\n",
    "```\n",
    "lambda <parameter list>: <expression to be returned>\n",
    "```"
   ]
  },
  {
   "cell_type": "markdown",
   "metadata": {},
   "source": [
    "## Modules\n",
    "\n",
    "Python has a huge collection of external modules (both standard and non-standard).\n",
    "\n",
    "A module con be imported in several ways:"
   ]
  },
  {
   "cell_type": "code",
   "execution_count": 42,
   "metadata": {
    "collapsed": true
   },
   "outputs": [],
   "source": [
    "import numpy # A module for vector operations\n",
    "import numpy as np # Ranaming, for ease of access\n",
    "import numpy.random # Import a submodule\n",
    "from numpy import random # Import a submodule (allows accessing with \"random\")"
   ]
  },
  {
   "cell_type": "markdown",
   "metadata": {},
   "source": []
  },
  {
   "cell_type": "markdown",
   "metadata": {},
   "source": [
    "# Numpy\n",
    "\n",
    "[**numpy**](http://www.numpy.org) is a python module for vector computation. Numpy enables efficent computations over vectors, using an approach and API that inspired by Matlab.\n",
    "\n",
    "We will heavily the [scikit-learn](http://scikit-learn.org/stable/index.html) python module, but we will have plenty of time to see how it works.\n",
    "\n",
    "Finally, we will use two more imporant python modules, namely [matplotlib](https://matplotlib.org/index.html) and (pandas)[https://pandas.pydata.org]. In case of both of them, we will be interested in very speficic functionalities and it will make sense to present them at the moment of use.\n",
    "\n",
    "\n",
    "## Numpy basics\n",
    "\n",
    "Numpy provides a fundamental data structure calle **array**. Numpy arrays are data structure corresponding to fixed-size vectors, matrices, or tensors (i.e. matrix genraliazation to n-dimensions). \n",
    "\n",
    "They are internally stored as C arrays (i.e. sequences of contiguous elements in central memory), which makes them very efficient to process. This storage method is the same, no matter what the number of array dimensions is. As a side effect, each array object has an associatd _shape_ field (a tuple) that defines the actual structure of the data.\n",
    "\n",
    "An all zero, 5x5 matric can be built with:"
   ]
  },
  {
   "cell_type": "code",
   "execution_count": 6,
   "metadata": {},
   "outputs": [
    {
     "data": {
      "text/plain": [
       "array([0., 0., 0., 0., 0.])"
      ]
     },
     "execution_count": 6,
     "metadata": {},
     "output_type": "execute_result"
    }
   ],
   "source": [
    "import numpy as np # It is customary to rename \"numpy\" as np\n",
    "\n",
    "np.zeros(5)"
   ]
  },
  {
   "cell_type": "markdown",
   "metadata": {},
   "source": [
    "The `(5, 5)` parameter represents the shape.\n",
    "\n",
    "Notice that jupyter always displays the output of the last expression in a cell, even if no `print` instruction is issued.\n",
    "\n",
    "An all-one, 3x4 matrix can be obtained with:"
   ]
  },
  {
   "cell_type": "code",
   "execution_count": 2,
   "metadata": {},
   "outputs": [
    {
     "name": "stdout",
     "output_type": "stream",
     "text": [
      "[[ 1.  1.  1.  1.]\n",
      " [ 1.  1.  1.  1.]\n",
      " [ 1.  1.  1.  1.]]\n"
     ]
    }
   ],
   "source": [
    "print(np.ones((3, 4)))"
   ]
  },
  {
   "cell_type": "markdown",
   "metadata": {},
   "source": [
    "One dimensional arrays can be build by passing a single number instead of a tuple, i.e.:"
   ]
  },
  {
   "cell_type": "code",
   "execution_count": 4,
   "metadata": {},
   "outputs": [
    {
     "name": "stdout",
     "output_type": "stream",
     "text": [
      "[ 0.  0.  0.  0.  0.]\n",
      "[ 1.  1.  1.  1.]\n"
     ]
    }
   ],
   "source": [
    "print(np.zeros(5))\n",
    "print(np.ones(4))"
   ]
  },
  {
   "cell_type": "markdown",
   "metadata": {},
   "source": [
    "An array of number separated by a fixed increment can be built with:"
   ]
  },
  {
   "cell_type": "code",
   "execution_count": 4,
   "metadata": {},
   "outputs": [
    {
     "name": "stdout",
     "output_type": "stream",
     "text": [
      "[1 3 5 7 9]\n"
     ]
    }
   ],
   "source": [
    "print(np.arange(1, 10, 2))"
   ]
  },
  {
   "cell_type": "markdown",
   "metadata": {},
   "source": [
    "Where the first argument is the starting number, the second is the limit (non-included) and the third is the increment. All arguments except the limit are optional. Hence we can write:"
   ]
  },
  {
   "cell_type": "code",
   "execution_count": 6,
   "metadata": {},
   "outputs": [
    {
     "name": "stdout",
     "output_type": "stream",
     "text": [
      "[0 1 2 3 4 5 6 7 8 9]\n"
     ]
    }
   ],
   "source": [
    "x = np.arange(10)\n",
    "print(x)"
   ]
  },
  {
   "cell_type": "markdown",
   "metadata": {},
   "source": [
    "And obtain the same result.\n",
    "\n",
    "Once an array has been built, we can change its shape. This is a very efficient because the memory representation stays the same: it's only the shape tuple that is update.\n",
    "\n",
    "Reshaping is done using the method:"
   ]
  },
  {
   "cell_type": "code",
   "execution_count": 8,
   "metadata": {},
   "outputs": [
    {
     "data": {
      "text/plain": [
       "array([0, 1, 2, 3, 4, 5, 6, 7, 8, 9])"
      ]
     },
     "execution_count": 8,
     "metadata": {},
     "output_type": "execute_result"
    }
   ],
   "source": [
    "x = np.arange(10)\n",
    "x"
   ]
  },
  {
   "cell_type": "code",
   "execution_count": 9,
   "metadata": {},
   "outputs": [
    {
     "name": "stdout",
     "output_type": "stream",
     "text": [
      "[[0 1 2 3 4]\n",
      " [5 6 7 8 9]]\n"
     ]
    }
   ],
   "source": [
    "print(x.reshape((2, 5)))"
   ]
  },
  {
   "cell_type": "markdown",
   "metadata": {},
   "source": [
    "`reshape` return a reshaped copy (careful: this is not strictly true...) of the original array."
   ]
  },
  {
   "cell_type": "markdown",
   "metadata": {},
   "source": [
    "Elementwise operations on numpy arrays can be efficiently performed using the usual arithmetic operators. This is possible since python allows operator overring, which numpy takes great advantage of.\n",
    "\n",
    "Some examples:"
   ]
  },
  {
   "cell_type": "code",
   "execution_count": 10,
   "metadata": {},
   "outputs": [
    {
     "name": "stdout",
     "output_type": "stream",
     "text": [
      "[[1 2 3]\n",
      " [4 5 6]\n",
      " [7 8 9]]\n",
      "[[1 2 3]\n",
      " [4 5 6]\n",
      " [7 8 9]]\n",
      "[[ 2  4  6]\n",
      " [ 8 10 12]\n",
      " [14 16 18]]\n",
      "[[ 1  4  9]\n",
      " [16 25 36]\n",
      " [49 64 81]]\n",
      "[[1. 1. 1.]\n",
      " [1. 1. 1.]\n",
      " [1. 1. 1.]]\n"
     ]
    }
   ],
   "source": [
    "a = np.arange(1, 10).reshape((3,3))\n",
    "b = np.arange(1, 10).reshape((3,3))\n",
    "print(a)\n",
    "print(b)\n",
    "\n",
    "print(a + b)\n",
    "print(a * b) # elementwise product (not the matrix product!)\n",
    "print(a / b)"
   ]
  },
  {
   "cell_type": "markdown",
   "metadata": {},
   "source": [
    "The trick works even if one of the two terms is a scalar:"
   ]
  },
  {
   "cell_type": "code",
   "execution_count": 8,
   "metadata": {},
   "outputs": [
    {
     "name": "stdout",
     "output_type": "stream",
     "text": [
      "[[ 2  4  6]\n",
      " [ 8 10 12]\n",
      " [14 16 18]]\n",
      "[[ 3  4  5]\n",
      " [ 6  7  8]\n",
      " [ 9 10 11]]\n",
      "[[ 2.          1.          0.66666667]\n",
      " [ 0.5         0.4         0.33333333]\n",
      " [ 0.28571429  0.25        0.22222222]]\n"
     ]
    }
   ],
   "source": [
    "c = 2\n",
    "\n",
    "print(a * 2)\n",
    "print(2 + a)\n",
    "print(2 / a)"
   ]
  },
  {
   "cell_type": "markdown",
   "metadata": {},
   "source": [
    "If we need the matrix multiplication or the dot product, we can use:"
   ]
  },
  {
   "cell_type": "code",
   "execution_count": 11,
   "metadata": {},
   "outputs": [
    {
     "name": "stdout",
     "output_type": "stream",
     "text": [
      "[[ 30  36  42]\n",
      " [ 66  81  96]\n",
      " [102 126 150]]\n",
      "14\n"
     ]
    }
   ],
   "source": [
    "print(np.matmul(a, b)) # Matrix multiplication\n",
    "print(np.dot(a[0], b[0]))"
   ]
  },
  {
   "cell_type": "markdown",
   "metadata": {},
   "source": [
    "The example shows also that the rows (i.e. the first dimension, or _axis_) of a numpy array can be accessed with the notation:\n",
    "\n",
    "```\n",
    "<array>[<index>]\n",
    "```\n",
    "\n",
    "Numpy arrays, however, support much more flexible forms of indexing. We will use matrices to show some examples, but the presented methods work for n-dimensional arrays:"
   ]
  },
  {
   "cell_type": "code",
   "execution_count": 16,
   "metadata": {},
   "outputs": [
    {
     "name": "stdout",
     "output_type": "stream",
     "text": [
      "[[ 0  1  2  3]\n",
      " [ 4  5  6  7]\n",
      " [ 8  9 10 11]\n",
      " [12 13 14 15]]\n",
      "5\n",
      "[5 9]\n",
      "[[ 5  6]\n",
      " [ 9 10]]\n",
      "[4 5 6 7]\n",
      "[ 1  5  9 13]\n",
      "[[ 8  9 10 11]\n",
      " [12 13 14 15]]\n",
      "[[False False False False]\n",
      " [ True  True  True  True]\n",
      " [ True  True  True  True]\n",
      " [ True  True  True  True]]\n",
      "[ 4  5  6  7  8  9 10 11 12 13 14 15]\n"
     ]
    }
   ],
   "source": [
    "a = np.arange(16).reshape((4,4))\n",
    "\n",
    "print(a)\n",
    "print(a[1,1]) # Access by row and column\n",
    "print(a[1:3, 1]) # Range of rows, single column\n",
    "print(a[1:3, 1:3]) # Range of row, range of columns\n",
    "print(a[1, :]) # One full row\n",
    "print(a[:, 1]) # One full column\n",
    "print(a[2:, :]) # All rows, starting with index 2\n",
    "\n",
    "print(a > 3)\n",
    "\n",
    "print(a[a > 3]) # Indexing with a boolean mask (this looses the shape)"
   ]
  }
 ],
 "metadata": {
  "kernelspec": {
   "display_name": "Python 3",
   "language": "python",
   "name": "python3"
  },
  "language_info": {
   "codemirror_mode": {
    "name": "ipython",
    "version": 2
   },
   "file_extension": ".py",
   "mimetype": "text/x-python",
   "name": "python",
   "nbconvert_exporter": "python",
   "pygments_lexer": "ipython2",
   "version": "2.7.15"
  }
 },
 "nbformat": 4,
 "nbformat_minor": 2
}
