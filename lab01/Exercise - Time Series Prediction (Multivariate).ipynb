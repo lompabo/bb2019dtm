{
 "cells": [
  {
   "cell_type": "markdown",
   "metadata": {},
   "source": [
    "# Ex - Multivariate Time Series Prediction\n",
    "\n",
    "We can now try to take advantage of all our data, i.e. to deal with the original air quality time series. "
   ]
  },
  {
   "cell_type": "markdown",
   "metadata": {},
   "source": [
    "## Loading data\n",
    "\n",
    "We can still load the data with:\n",
    "\n",
    "```python\n",
    "def load_air_data(fname)\n",
    "```"
   ]
  },
  {
   "cell_type": "code",
   "execution_count": 20,
   "metadata": {},
   "outputs": [
    {
     "name": "stdout",
     "output_type": "stream",
     "text": [
      "            CO(GT)  PT08.S1(CO)     NMHC(GT)     C6H6(GT)  PT08.S2(NMHC)  \\\n",
      "count  7674.000000  8991.000000   914.000000  8991.000000    8991.000000   \n",
      "mean      2.152750  1099.833166   218.811816    10.083105     939.153376   \n",
      "std       1.453252   217.080037   204.459921     7.449820     266.831429   \n",
      "min       0.100000   647.000000     7.000000     0.100000     383.000000   \n",
      "25%       1.100000   937.000000    67.000000     4.400000     734.500000   \n",
      "50%       1.800000  1063.000000   150.000000     8.200000     909.000000   \n",
      "75%       2.900000  1231.000000   297.000000    14.000000    1116.000000   \n",
      "max      11.900000  2040.000000  1189.000000    63.700000    2214.000000   \n",
      "\n",
      "           NOx(GT)  PT08.S3(NOx)      NO2(GT)  PT08.S4(NO2)  PT08.S5(O3)  \\\n",
      "count  7718.000000   8991.000000  7715.000000   8991.000000  8991.000000   \n",
      "mean    246.896735    835.493605   113.091251   1456.264598  1022.906128   \n",
      "std     212.979168    256.817320    48.370108    346.206794   398.484288   \n",
      "min       2.000000    322.000000     2.000000    551.000000   221.000000   \n",
      "25%      98.000000    658.000000    78.000000   1227.000000   731.500000   \n",
      "50%     180.000000    806.000000   109.000000   1463.000000   963.000000   \n",
      "75%     326.000000    969.500000   142.000000   1674.000000  1273.500000   \n",
      "max    1479.000000   2683.000000   340.000000   2775.000000  2523.000000   \n",
      "\n",
      "                 T           RH           AH  \n",
      "count  8991.000000  8991.000000  8991.000000  \n",
      "mean     18.317829    49.234201     1.025530  \n",
      "std       8.832116    17.316892     0.403813  \n",
      "min      -1.900000     9.200000     0.184700  \n",
      "25%      11.800000    35.800000     0.736800  \n",
      "50%      17.800000    49.600000     0.995400  \n",
      "75%      24.400000    62.500000     1.313700  \n",
      "max      44.600000    88.700000     2.231000  \n"
     ]
    },
    {
     "data": {
      "text/html": [
       "<div>\n",
       "<style scoped>\n",
       "    .dataframe tbody tr th:only-of-type {\n",
       "        vertical-align: middle;\n",
       "    }\n",
       "\n",
       "    .dataframe tbody tr th {\n",
       "        vertical-align: top;\n",
       "    }\n",
       "\n",
       "    .dataframe thead th {\n",
       "        text-align: right;\n",
       "    }\n",
       "</style>\n",
       "<table border=\"1\" class=\"dataframe\">\n",
       "  <thead>\n",
       "    <tr style=\"text-align: right;\">\n",
       "      <th></th>\n",
       "      <th>CO(GT)</th>\n",
       "      <th>PT08.S1(CO)</th>\n",
       "      <th>NMHC(GT)</th>\n",
       "      <th>C6H6(GT)</th>\n",
       "      <th>PT08.S2(NMHC)</th>\n",
       "      <th>NOx(GT)</th>\n",
       "      <th>PT08.S3(NOx)</th>\n",
       "      <th>NO2(GT)</th>\n",
       "      <th>PT08.S4(NO2)</th>\n",
       "      <th>PT08.S5(O3)</th>\n",
       "      <th>T</th>\n",
       "      <th>RH</th>\n",
       "      <th>AH</th>\n",
       "    </tr>\n",
       "    <tr>\n",
       "      <th>Date</th>\n",
       "      <th></th>\n",
       "      <th></th>\n",
       "      <th></th>\n",
       "      <th></th>\n",
       "      <th></th>\n",
       "      <th></th>\n",
       "      <th></th>\n",
       "      <th></th>\n",
       "      <th></th>\n",
       "      <th></th>\n",
       "      <th></th>\n",
       "      <th></th>\n",
       "      <th></th>\n",
       "    </tr>\n",
       "  </thead>\n",
       "  <tbody>\n",
       "    <tr>\n",
       "      <th>2004-03-10 18:00:00</th>\n",
       "      <td>2.6</td>\n",
       "      <td>1360.0</td>\n",
       "      <td>150.0</td>\n",
       "      <td>11.9</td>\n",
       "      <td>1046.0</td>\n",
       "      <td>166.0</td>\n",
       "      <td>1056.0</td>\n",
       "      <td>113.0</td>\n",
       "      <td>1692.0</td>\n",
       "      <td>1268.0</td>\n",
       "      <td>13.6</td>\n",
       "      <td>48.9</td>\n",
       "      <td>0.7578</td>\n",
       "    </tr>\n",
       "    <tr>\n",
       "      <th>2004-03-10 19:00:00</th>\n",
       "      <td>2.0</td>\n",
       "      <td>1292.0</td>\n",
       "      <td>112.0</td>\n",
       "      <td>9.4</td>\n",
       "      <td>955.0</td>\n",
       "      <td>103.0</td>\n",
       "      <td>1174.0</td>\n",
       "      <td>92.0</td>\n",
       "      <td>1559.0</td>\n",
       "      <td>972.0</td>\n",
       "      <td>13.3</td>\n",
       "      <td>47.7</td>\n",
       "      <td>0.7255</td>\n",
       "    </tr>\n",
       "    <tr>\n",
       "      <th>2004-03-10 20:00:00</th>\n",
       "      <td>2.2</td>\n",
       "      <td>1402.0</td>\n",
       "      <td>88.0</td>\n",
       "      <td>9.0</td>\n",
       "      <td>939.0</td>\n",
       "      <td>131.0</td>\n",
       "      <td>1140.0</td>\n",
       "      <td>114.0</td>\n",
       "      <td>1555.0</td>\n",
       "      <td>1074.0</td>\n",
       "      <td>11.9</td>\n",
       "      <td>54.0</td>\n",
       "      <td>0.7502</td>\n",
       "    </tr>\n",
       "    <tr>\n",
       "      <th>2004-03-10 21:00:00</th>\n",
       "      <td>2.2</td>\n",
       "      <td>1376.0</td>\n",
       "      <td>80.0</td>\n",
       "      <td>9.2</td>\n",
       "      <td>948.0</td>\n",
       "      <td>172.0</td>\n",
       "      <td>1092.0</td>\n",
       "      <td>122.0</td>\n",
       "      <td>1584.0</td>\n",
       "      <td>1203.0</td>\n",
       "      <td>11.0</td>\n",
       "      <td>60.0</td>\n",
       "      <td>0.7867</td>\n",
       "    </tr>\n",
       "    <tr>\n",
       "      <th>2004-03-10 22:00:00</th>\n",
       "      <td>1.6</td>\n",
       "      <td>1272.0</td>\n",
       "      <td>51.0</td>\n",
       "      <td>6.5</td>\n",
       "      <td>836.0</td>\n",
       "      <td>131.0</td>\n",
       "      <td>1205.0</td>\n",
       "      <td>116.0</td>\n",
       "      <td>1490.0</td>\n",
       "      <td>1110.0</td>\n",
       "      <td>11.2</td>\n",
       "      <td>59.6</td>\n",
       "      <td>0.7888</td>\n",
       "    </tr>\n",
       "  </tbody>\n",
       "</table>\n",
       "</div>"
      ],
      "text/plain": [
       "                     CO(GT)  PT08.S1(CO)  NMHC(GT)  C6H6(GT)  PT08.S2(NMHC)  \\\n",
       "Date                                                                          \n",
       "2004-03-10 18:00:00     2.6       1360.0     150.0      11.9         1046.0   \n",
       "2004-03-10 19:00:00     2.0       1292.0     112.0       9.4          955.0   \n",
       "2004-03-10 20:00:00     2.2       1402.0      88.0       9.0          939.0   \n",
       "2004-03-10 21:00:00     2.2       1376.0      80.0       9.2          948.0   \n",
       "2004-03-10 22:00:00     1.6       1272.0      51.0       6.5          836.0   \n",
       "\n",
       "                     NOx(GT)  PT08.S3(NOx)  NO2(GT)  PT08.S4(NO2)  \\\n",
       "Date                                                                \n",
       "2004-03-10 18:00:00    166.0        1056.0    113.0        1692.0   \n",
       "2004-03-10 19:00:00    103.0        1174.0     92.0        1559.0   \n",
       "2004-03-10 20:00:00    131.0        1140.0    114.0        1555.0   \n",
       "2004-03-10 21:00:00    172.0        1092.0    122.0        1584.0   \n",
       "2004-03-10 22:00:00    131.0        1205.0    116.0        1490.0   \n",
       "\n",
       "                     PT08.S5(O3)     T    RH      AH  \n",
       "Date                                                  \n",
       "2004-03-10 18:00:00       1268.0  13.6  48.9  0.7578  \n",
       "2004-03-10 19:00:00        972.0  13.3  47.7  0.7255  \n",
       "2004-03-10 20:00:00       1074.0  11.9  54.0  0.7502  \n",
       "2004-03-10 21:00:00       1203.0  11.0  60.0  0.7867  \n",
       "2004-03-10 22:00:00       1110.0  11.2  59.6  0.7888  "
      ]
     },
     "execution_count": 20,
     "metadata": {},
     "output_type": "execute_result"
    }
   ],
   "source": [
    "import lutil\n",
    "\n",
    "data = lutil.load_air_data()\n",
    "\n",
    "print(data.describe()) # Shows statistical information about each column\n",
    "data.head()"
   ]
  },
  {
   "cell_type": "markdown",
   "metadata": {},
   "source": [
    "As main difference, we will not drop any column.\n",
    "\n",
    "<!-- Rather wi will add two extra columns containing temporal information. Our goal will still be to predict `CO(GT)`.-->\n",
    "\n",
    "We will still discard all rows containing missing values (remember: this is not a good idea in general)."
   ]
  },
  {
   "cell_type": "code",
   "execution_count": 21,
   "metadata": {},
   "outputs": [
    {
     "data": {
      "text/html": [
       "<div>\n",
       "<style scoped>\n",
       "    .dataframe tbody tr th:only-of-type {\n",
       "        vertical-align: middle;\n",
       "    }\n",
       "\n",
       "    .dataframe tbody tr th {\n",
       "        vertical-align: top;\n",
       "    }\n",
       "\n",
       "    .dataframe thead th {\n",
       "        text-align: right;\n",
       "    }\n",
       "</style>\n",
       "<table border=\"1\" class=\"dataframe\">\n",
       "  <thead>\n",
       "    <tr style=\"text-align: right;\">\n",
       "      <th></th>\n",
       "      <th>CO(GT)</th>\n",
       "      <th>PT08.S1(CO)</th>\n",
       "      <th>NMHC(GT)</th>\n",
       "      <th>C6H6(GT)</th>\n",
       "      <th>PT08.S2(NMHC)</th>\n",
       "      <th>NOx(GT)</th>\n",
       "      <th>PT08.S3(NOx)</th>\n",
       "      <th>NO2(GT)</th>\n",
       "      <th>PT08.S4(NO2)</th>\n",
       "      <th>PT08.S5(O3)</th>\n",
       "      <th>T</th>\n",
       "      <th>RH</th>\n",
       "      <th>AH</th>\n",
       "    </tr>\n",
       "    <tr>\n",
       "      <th>Date</th>\n",
       "      <th></th>\n",
       "      <th></th>\n",
       "      <th></th>\n",
       "      <th></th>\n",
       "      <th></th>\n",
       "      <th></th>\n",
       "      <th></th>\n",
       "      <th></th>\n",
       "      <th></th>\n",
       "      <th></th>\n",
       "      <th></th>\n",
       "      <th></th>\n",
       "      <th></th>\n",
       "    </tr>\n",
       "  </thead>\n",
       "  <tbody>\n",
       "    <tr>\n",
       "      <th>2004-03-10 18:00:00</th>\n",
       "      <td>2.6</td>\n",
       "      <td>1360.0</td>\n",
       "      <td>150.0</td>\n",
       "      <td>11.9</td>\n",
       "      <td>1046.0</td>\n",
       "      <td>166.0</td>\n",
       "      <td>1056.0</td>\n",
       "      <td>113.0</td>\n",
       "      <td>1692.0</td>\n",
       "      <td>1268.0</td>\n",
       "      <td>13.6</td>\n",
       "      <td>48.9</td>\n",
       "      <td>0.7578</td>\n",
       "    </tr>\n",
       "    <tr>\n",
       "      <th>2004-03-10 19:00:00</th>\n",
       "      <td>2.0</td>\n",
       "      <td>1292.0</td>\n",
       "      <td>112.0</td>\n",
       "      <td>9.4</td>\n",
       "      <td>955.0</td>\n",
       "      <td>103.0</td>\n",
       "      <td>1174.0</td>\n",
       "      <td>92.0</td>\n",
       "      <td>1559.0</td>\n",
       "      <td>972.0</td>\n",
       "      <td>13.3</td>\n",
       "      <td>47.7</td>\n",
       "      <td>0.7255</td>\n",
       "    </tr>\n",
       "    <tr>\n",
       "      <th>2004-03-10 20:00:00</th>\n",
       "      <td>2.2</td>\n",
       "      <td>1402.0</td>\n",
       "      <td>88.0</td>\n",
       "      <td>9.0</td>\n",
       "      <td>939.0</td>\n",
       "      <td>131.0</td>\n",
       "      <td>1140.0</td>\n",
       "      <td>114.0</td>\n",
       "      <td>1555.0</td>\n",
       "      <td>1074.0</td>\n",
       "      <td>11.9</td>\n",
       "      <td>54.0</td>\n",
       "      <td>0.7502</td>\n",
       "    </tr>\n",
       "    <tr>\n",
       "      <th>2004-03-10 21:00:00</th>\n",
       "      <td>2.2</td>\n",
       "      <td>1376.0</td>\n",
       "      <td>80.0</td>\n",
       "      <td>9.2</td>\n",
       "      <td>948.0</td>\n",
       "      <td>172.0</td>\n",
       "      <td>1092.0</td>\n",
       "      <td>122.0</td>\n",
       "      <td>1584.0</td>\n",
       "      <td>1203.0</td>\n",
       "      <td>11.0</td>\n",
       "      <td>60.0</td>\n",
       "      <td>0.7867</td>\n",
       "    </tr>\n",
       "    <tr>\n",
       "      <th>2004-03-10 22:00:00</th>\n",
       "      <td>1.6</td>\n",
       "      <td>1272.0</td>\n",
       "      <td>51.0</td>\n",
       "      <td>6.5</td>\n",
       "      <td>836.0</td>\n",
       "      <td>131.0</td>\n",
       "      <td>1205.0</td>\n",
       "      <td>116.0</td>\n",
       "      <td>1490.0</td>\n",
       "      <td>1110.0</td>\n",
       "      <td>11.2</td>\n",
       "      <td>59.6</td>\n",
       "      <td>0.7888</td>\n",
       "    </tr>\n",
       "  </tbody>\n",
       "</table>\n",
       "</div>"
      ],
      "text/plain": [
       "                     CO(GT)  PT08.S1(CO)  NMHC(GT)  C6H6(GT)  PT08.S2(NMHC)  \\\n",
       "Date                                                                          \n",
       "2004-03-10 18:00:00     2.6       1360.0     150.0      11.9         1046.0   \n",
       "2004-03-10 19:00:00     2.0       1292.0     112.0       9.4          955.0   \n",
       "2004-03-10 20:00:00     2.2       1402.0      88.0       9.0          939.0   \n",
       "2004-03-10 21:00:00     2.2       1376.0      80.0       9.2          948.0   \n",
       "2004-03-10 22:00:00     1.6       1272.0      51.0       6.5          836.0   \n",
       "\n",
       "                     NOx(GT)  PT08.S3(NOx)  NO2(GT)  PT08.S4(NO2)  \\\n",
       "Date                                                                \n",
       "2004-03-10 18:00:00    166.0        1056.0    113.0        1692.0   \n",
       "2004-03-10 19:00:00    103.0        1174.0     92.0        1559.0   \n",
       "2004-03-10 20:00:00    131.0        1140.0    114.0        1555.0   \n",
       "2004-03-10 21:00:00    172.0        1092.0    122.0        1584.0   \n",
       "2004-03-10 22:00:00    131.0        1205.0    116.0        1490.0   \n",
       "\n",
       "                     PT08.S5(O3)     T    RH      AH  \n",
       "Date                                                  \n",
       "2004-03-10 18:00:00       1268.0  13.6  48.9  0.7578  \n",
       "2004-03-10 19:00:00        972.0  13.3  47.7  0.7255  \n",
       "2004-03-10 20:00:00       1074.0  11.9  54.0  0.7502  \n",
       "2004-03-10 21:00:00       1203.0  11.0  60.0  0.7867  \n",
       "2004-03-10 22:00:00       1110.0  11.2  59.6  0.7888  "
      ]
     },
     "execution_count": 21,
     "metadata": {},
     "output_type": "execute_result"
    }
   ],
   "source": [
    "import numpy as np\n",
    "\n",
    "#data = data.drop('NMHC(GT)', axis=1)\n",
    "data = data.dropna() # Discard tuples with NaN values\n",
    "#data['doy'] = data.index.dayofyear # Day of the year\n",
    "#data['hour'] = data.index.hour # Hour of the day\n",
    "data.head()"
   ]
  },
  {
   "cell_type": "markdown",
   "metadata": {},
   "source": [
    "Let's have a look at the probability distributions:"
   ]
  },
  {
   "cell_type": "code",
   "execution_count": 22,
   "metadata": {},
   "outputs": [
    {
     "data": {
      "image/png": "[encoded data removed]",
      "text/plain": [
       "<Figure size 1440x1872 with 13 Axes>"
      ]
     },
     "metadata": {
      "needs_background": "light"
     },
     "output_type": "display_data"
    }
   ],
   "source": [
    "from matplotlib import pyplot as plt\n",
    "\n",
    "ncols = len(data.columns)\n",
    "plt.figure(figsize=(20, 26))\n",
    "for i, col in enumerate(data.columns):\n",
    "    plt.subplot((ncols) // 2 +1 , 2, i+1)\n",
    "    plt.title(col)\n",
    "    plt.hist(data[col], bins=20)\n",
    "plt.show()"
   ]
  },
  {
   "cell_type": "markdown",
   "metadata": {},
   "source": [
    "For fairness with the previous comparison, let's use a log scale for the `CO(GT)` columns, plus `NMHC(GT)`, `C6H6(GT)` and `NOx(GT)` (well we should check the type of distribution first, but let's keep it simple for now)."
   ]
  },
  {
   "cell_type": "code",
   "execution_count": 23,
   "metadata": {},
   "outputs": [
    {
     "data": {
      "image/png": "[encoded data removed]",
      "text/plain": [
       "<Figure size 1440x1872 with 11 Axes>"
      ]
     },
     "metadata": {
      "needs_background": "light"
     },
     "output_type": "display_data"
    }
   ],
   "source": [
    "import numpy as np\n",
    "\n",
    "data['CO(GT)'] = np.log(data['CO(GT)'])\n",
    "data['NMHC(GT)'] = np.log(data['NMHC(GT)'])\n",
    "data['C6H6(GT)'] = np.log(data['C6H6(GT)'])\n",
    "data['NOx(GT)'] = np.log(data['NOx(GT)'])\n",
    "\n",
    "ncols = len(data.columns)\n",
    "plt.figure(figsize=(20, 26))\n",
    "for i, col in enumerate(data.columns[:-2]):\n",
    "    plt.subplot((ncols-2) // 2 +1 , 2, i+1)\n",
    "    plt.title(col)\n",
    "    plt.hist(data[col], bins=20)\n",
    "plt.show()"
   ]
  },
  {
   "cell_type": "markdown",
   "metadata": {},
   "source": [
    "We could do better, but let's move on."
   ]
  },
  {
   "cell_type": "markdown",
   "metadata": {},
   "source": [
    "## Normalization/Standardization\n",
    "\n",
    "We will standardize the data as in the previous case."
   ]
  },
  {
   "cell_type": "code",
   "execution_count": 24,
   "metadata": {},
   "outputs": [
    {
     "data": {
      "text/html": [
       "<div>\n",
       "<style scoped>\n",
       "    .dataframe tbody tr th:only-of-type {\n",
       "        vertical-align: middle;\n",
       "    }\n",
       "\n",
       "    .dataframe tbody tr th {\n",
       "        vertical-align: top;\n",
       "    }\n",
       "\n",
       "    .dataframe thead th {\n",
       "        text-align: right;\n",
       "    }\n",
       "</style>\n",
       "<table border=\"1\" class=\"dataframe\">\n",
       "  <thead>\n",
       "    <tr style=\"text-align: right;\">\n",
       "      <th></th>\n",
       "      <th>CO(GT)</th>\n",
       "      <th>PT08.S1(CO)</th>\n",
       "      <th>NMHC(GT)</th>\n",
       "      <th>C6H6(GT)</th>\n",
       "      <th>PT08.S2(NMHC)</th>\n",
       "      <th>NOx(GT)</th>\n",
       "      <th>PT08.S3(NOx)</th>\n",
       "      <th>NO2(GT)</th>\n",
       "      <th>PT08.S4(NO2)</th>\n",
       "      <th>PT08.S5(O3)</th>\n",
       "      <th>T</th>\n",
       "      <th>RH</th>\n",
       "      <th>AH</th>\n",
       "    </tr>\n",
       "    <tr>\n",
       "      <th>Date</th>\n",
       "      <th></th>\n",
       "      <th></th>\n",
       "      <th></th>\n",
       "      <th></th>\n",
       "      <th></th>\n",
       "      <th></th>\n",
       "      <th></th>\n",
       "      <th></th>\n",
       "      <th></th>\n",
       "      <th></th>\n",
       "      <th></th>\n",
       "      <th></th>\n",
       "      <th></th>\n",
       "    </tr>\n",
       "  </thead>\n",
       "  <tbody>\n",
       "    <tr>\n",
       "      <th>2004-03-10 18:00:00</th>\n",
       "      <td>0.431301</td>\n",
       "      <td>0.507009</td>\n",
       "      <td>0.224517</td>\n",
       "      <td>0.485218</td>\n",
       "      <td>0.328920</td>\n",
       "      <td>0.440640</td>\n",
       "      <td>0.137083</td>\n",
       "      <td>0.271273</td>\n",
       "      <td>0.367643</td>\n",
       "      <td>0.512432</td>\n",
       "      <td>-0.079349</td>\n",
       "      <td>-0.080822</td>\n",
       "      <td>-0.029487</td>\n",
       "    </tr>\n",
       "    <tr>\n",
       "      <th>2004-03-10 19:00:00</th>\n",
       "      <td>-0.006253</td>\n",
       "      <td>0.231950</td>\n",
       "      <td>-0.098671</td>\n",
       "      <td>0.184869</td>\n",
       "      <td>-0.021842</td>\n",
       "      <td>-0.309972</td>\n",
       "      <td>0.597878</td>\n",
       "      <td>-0.391420</td>\n",
       "      <td>-0.089647</td>\n",
       "      <td>-0.241071</td>\n",
       "      <td>-0.142635</td>\n",
       "      <td>-0.162518</td>\n",
       "      <td>-0.309465</td>\n",
       "    </tr>\n",
       "    <tr>\n",
       "      <th>2004-03-10 20:00:00</th>\n",
       "      <td>0.152699</td>\n",
       "      <td>0.676898</td>\n",
       "      <td>-0.365467</td>\n",
       "      <td>0.129487</td>\n",
       "      <td>-0.083515</td>\n",
       "      <td>0.068226</td>\n",
       "      <td>0.465107</td>\n",
       "      <td>0.302829</td>\n",
       "      <td>-0.103400</td>\n",
       "      <td>0.018582</td>\n",
       "      <td>-0.437969</td>\n",
       "      <td>0.266387</td>\n",
       "      <td>-0.095364</td>\n",
       "    </tr>\n",
       "    <tr>\n",
       "      <th>2004-03-10 21:00:00</th>\n",
       "      <td>0.152699</td>\n",
       "      <td>0.571728</td>\n",
       "      <td>-0.470907</td>\n",
       "      <td>0.157479</td>\n",
       "      <td>-0.048824</td>\n",
       "      <td>0.496483</td>\n",
       "      <td>0.277664</td>\n",
       "      <td>0.555284</td>\n",
       "      <td>-0.003691</td>\n",
       "      <td>0.346967</td>\n",
       "      <td>-0.627826</td>\n",
       "      <td>0.674868</td>\n",
       "      <td>0.221019</td>\n",
       "    </tr>\n",
       "    <tr>\n",
       "      <th>2004-03-10 22:00:00</th>\n",
       "      <td>-0.378396</td>\n",
       "      <td>0.151050</td>\n",
       "      <td>-0.968960</td>\n",
       "      <td>-0.284968</td>\n",
       "      <td>-0.480531</td>\n",
       "      <td>0.068226</td>\n",
       "      <td>0.718934</td>\n",
       "      <td>0.365943</td>\n",
       "      <td>-0.326888</td>\n",
       "      <td>0.110224</td>\n",
       "      <td>-0.585636</td>\n",
       "      <td>0.647636</td>\n",
       "      <td>0.239222</td>\n",
       "    </tr>\n",
       "  </tbody>\n",
       "</table>\n",
       "</div>"
      ],
      "text/plain": [
       "                       CO(GT)  PT08.S1(CO)  NMHC(GT)  C6H6(GT)  PT08.S2(NMHC)  \\\n",
       "Date                                                                            \n",
       "2004-03-10 18:00:00  0.431301     0.507009  0.224517  0.485218       0.328920   \n",
       "2004-03-10 19:00:00 -0.006253     0.231950 -0.098671  0.184869      -0.021842   \n",
       "2004-03-10 20:00:00  0.152699     0.676898 -0.365467  0.129487      -0.083515   \n",
       "2004-03-10 21:00:00  0.152699     0.571728 -0.470907  0.157479      -0.048824   \n",
       "2004-03-10 22:00:00 -0.378396     0.151050 -0.968960 -0.284968      -0.480531   \n",
       "\n",
       "                      NOx(GT)  PT08.S3(NOx)   NO2(GT)  PT08.S4(NO2)  \\\n",
       "Date                                                                  \n",
       "2004-03-10 18:00:00  0.440640      0.137083  0.271273      0.367643   \n",
       "2004-03-10 19:00:00 -0.309972      0.597878 -0.391420     -0.089647   \n",
       "2004-03-10 20:00:00  0.068226      0.465107  0.302829     -0.103400   \n",
       "2004-03-10 21:00:00  0.496483      0.277664  0.555284     -0.003691   \n",
       "2004-03-10 22:00:00  0.068226      0.718934  0.365943     -0.326888   \n",
       "\n",
       "                     PT08.S5(O3)         T        RH        AH  \n",
       "Date                                                            \n",
       "2004-03-10 18:00:00     0.512432 -0.079349 -0.080822 -0.029487  \n",
       "2004-03-10 19:00:00    -0.241071 -0.142635 -0.162518 -0.309465  \n",
       "2004-03-10 20:00:00     0.018582 -0.437969  0.266387 -0.095364  \n",
       "2004-03-10 21:00:00     0.346967 -0.627826  0.674868  0.221019  \n",
       "2004-03-10 22:00:00     0.110224 -0.585636  0.647636  0.239222  "
      ]
     },
     "execution_count": 24,
     "metadata": {},
     "output_type": "execute_result"
    }
   ],
   "source": [
    "# Choose a separator date for the training and test set\n",
    "# NOTE: it's important to compute the means and standard deviations only on the training data!\n",
    "sep = data.index[-500]\n",
    "\n",
    "# Standardize the data\n",
    "means = data[data.index < sep].mean(axis=0)\n",
    "stds = data[data.index < sep].std(axis=0)\n",
    "data = (data - means) / stds\n",
    "\n",
    "data.head()"
   ]
  },
  {
   "cell_type": "markdown",
   "metadata": {},
   "source": [
    "## Building the Training and Test Set\n",
    "\n",
    "Same approach to split the training and test set."
   ]
  },
  {
   "cell_type": "code",
   "execution_count": 25,
   "metadata": {},
   "outputs": [
    {
     "name": "stdout",
     "output_type": "stream",
     "text": [
      "DatetimeIndex(['2004-03-11 20:00:00', '2004-03-11 21:00:00'], dtype='datetime64[ns]', name='Date', freq=None)\n",
      "(803, 24, 13)\n",
      "(803, 1, 1)\n"
     ]
    },
    {
     "name": "stderr",
     "output_type": "stream",
     "text": [
      "/Users/lompa/Documents/Teaching/BBS 2019 - Master in Digital Technology Management/lab01/lutil.py:190: FutureWarning: arrays to stack must be passed as a \"sequence\" type such as list or tuple. Support for non-sequence iterables such as generators is deprecated as of NumPy 1.16 and will raise an error in the future.\n",
      "  x = np.stack( (data[i:1+i-totwidth or None:stepsize] for i in range(0, nsteps_in)), axis=1)\n",
      "/Users/lompa/Documents/Teaching/BBS 2019 - Master in Digital Technology Management/lab01/lutil.py:191: FutureWarning: arrays to stack must be passed as a \"sequence\" type such as list or tuple. Support for non-sequence iterables such as generators is deprecated as of NumPy 1.16 and will raise an error in the future.\n",
      "  y = np.stack( (data[i:1+i-totwidth or None:stepsize][targets] for i in range(nsteps_in, nsteps_in+nsteps_out)), axis=1)\n"
     ]
    }
   ],
   "source": [
    "targets = ['CO(GT)']\n",
    "nsteps_in = 24\n",
    "\n",
    "index, x_all, y_all = lutil.sliding_win_ds(data, targets, nsteps_in)\n",
    "\n",
    "print(index[:2])\n",
    "print(x_all.shape)\n",
    "print(y_all.shape)"
   ]
  },
  {
   "cell_type": "markdown",
   "metadata": {},
   "source": [
    "We will reshape the data again, because scikit-learn expects both the training and test data to be bi-dimensional. The downside is that we will need to manullay track the position of different time steps and value types."
   ]
  },
  {
   "cell_type": "code",
   "execution_count": 26,
   "metadata": {},
   "outputs": [
    {
     "name": "stdout",
     "output_type": "stream",
     "text": [
      "(803, 312)\n",
      "(803, 1)\n"
     ]
    }
   ],
   "source": [
    "x_all = x_all.reshape(len(x_all), -1)\n",
    "y_all = y_all.reshape(len(y_all), -1)\n",
    "\n",
    "print(x_all.shape)\n",
    "print(y_all.shape)"
   ]
  },
  {
   "cell_type": "markdown",
   "metadata": {},
   "source": [
    "We can now separate out training and test set (we use or separator from before):"
   ]
  },
  {
   "cell_type": "code",
   "execution_count": 27,
   "metadata": {},
   "outputs": [],
   "source": [
    "# Separate training and test set\n",
    "train_mask = index < sep\n",
    "x_train, y_train = x_all[train_mask], y_all[train_mask]\n",
    "index_train = index[train_mask]\n",
    "test_mask = index >= sep\n",
    "x_test, y_test = x_all[test_mask], y_all[test_mask]\n",
    "index_test = index[test_mask]"
   ]
  },
  {
   "cell_type": "markdown",
   "metadata": {},
   "source": [
    "## Building the model\n",
    "\n",
    "We can now define the model, train it, and perform the evaluation. We will use the same model as before, except that now we have an input \"feature\" for each value type and time step:\n",
    "$$\n",
    "f(x) = \\sum_{i=1}^{n} w_i x_i\n",
    "$$\n",
    "\n",
    "We start by creating a `LinearRegression` model in scikit-learn:"
   ]
  },
  {
   "cell_type": "code",
   "execution_count": 28,
   "metadata": {},
   "outputs": [
    {
     "data": {
      "text/plain": [
       "LinearRegression(copy_X=True, fit_intercept=True, n_jobs=None,\n",
       "         normalize=False)"
      ]
     },
     "execution_count": 28,
     "metadata": {},
     "output_type": "execute_result"
    }
   ],
   "source": [
    "from sklearn import linear_model\n",
    "\n",
    "# Model 1: simple linear regressor\n",
    "model = linear_model.LinearRegression()\n",
    "model.fit(x_train, y_train)"
   ]
  },
  {
   "cell_type": "markdown",
   "metadata": {},
   "source": [
    "We can measure the performance as before:"
   ]
  },
  {
   "cell_type": "code",
   "execution_count": 29,
   "metadata": {},
   "outputs": [
    {
     "name": "stdout",
     "output_type": "stream",
     "text": [
      "std, training set (model): 1.005142\n",
      "std, test set (model): 1.103224\n",
      "MAE, training set (model): 0.000000\n",
      "MAE, test set (model): 4.296596\n",
      "R2, training set (model): 1.000000\n",
      "R2, test set (model): -23.094406\n"
     ]
    }
   ],
   "source": [
    "from sklearn import metrics\n",
    "\n",
    "pred_train = model.predict(x_train)\n",
    "pred_test = model.predict(x_test)\n",
    "\n",
    "mae_train = metrics.mean_absolute_error(y_train, pred_train)\n",
    "r2_train = metrics.r2_score(y_train, pred_train)\n",
    "\n",
    "mae_test = metrics.mean_absolute_error(y_test, pred_test)\n",
    "r2_test = metrics.r2_score(y_test, pred_test)\n",
    "\n",
    "print('std, training set (model): %f' % (y_train.std()))\n",
    "print('std, test set (model): %f' % (y_test.std()))\n",
    "print('MAE, training set (model): %f' % (mae_train))\n",
    "print('MAE, test set (model): %f' % (mae_test))\n",
    "print('R2, training set (model): %f' % (r2_train))\n",
    "print('R2, test set (model): %f' % (r2_test))"
   ]
  },
  {
   "cell_type": "markdown",
   "metadata": {},
   "source": [
    "...And something has changed, *radically*.\n",
    "\n",
    "We have more information and yet we are doing worse: whati is happening?\n",
    "\n",
    "The technical term for this kind of situation is \"we are overfitting like hell\" ;-)\n",
    "\n",
    "We can try to deal with this situation by encouraging the model to use a small number of features. Technically, we can do it by adding an L1 regularlization."
   ]
  },
  {
   "cell_type": "code",
   "execution_count": 30,
   "metadata": {},
   "outputs": [
    {
     "data": {
      "text/plain": [
       "Lasso(alpha=0.05, copy_X=True, fit_intercept=True, max_iter=1000,\n",
       "   normalize=False, positive=False, precompute=False, random_state=None,\n",
       "   selection='cyclic', tol=0.0001, warm_start=False)"
      ]
     },
     "execution_count": 30,
     "metadata": {},
     "output_type": "execute_result"
    }
   ],
   "source": [
    "# Model 1: simple linear regressor\n",
    "model2 = linear_model.Lasso(alpha=0.05)\n",
    "model2.fit(x_train, y_train)"
   ]
  },
  {
   "cell_type": "markdown",
   "metadata": {},
   "source": [
    "And now we can repeat the evaluation:"
   ]
  },
  {
   "cell_type": "code",
   "execution_count": 32,
   "metadata": {},
   "outputs": [
    {
     "name": "stdout",
     "output_type": "stream",
     "text": [
      "std, training set (model): 1.005142\n",
      "std, test set (model): 1.103224\n",
      "MAE, training set (model): 0.352791\n",
      "MAE, test set (model): 0.406312\n",
      "R2, training set (model): 0.785030\n",
      "R2, test set (model): 0.778908\n"
     ]
    }
   ],
   "source": [
    "pred_train2 = model2.predict(x_train)\n",
    "pred_test2 = model2.predict(x_test)\n",
    "\n",
    "mae_train2 = metrics.mean_absolute_error(y_train, pred_train2)\n",
    "r2_train2 = metrics.r2_score(y_train, pred_train2)\n",
    "\n",
    "mae_test2 = metrics.mean_absolute_error(y_test, pred_test2)\n",
    "r2_test2 = metrics.r2_score(y_test, pred_test2)\n",
    "\n",
    "print('std, training set (model): %f' % (y_train.std()))\n",
    "print('std, test set (model): %f' % (y_test.std()))\n",
    "print('MAE, training set (model): %f' % (mae_train2))\n",
    "print('MAE, test set (model): %f' % (mae_test2))\n",
    "print('R2, training set (model): %f' % (r2_train2))\n",
    "print('R2, test set (model): %f' % (r2_test2))"
   ]
  },
  {
   "cell_type": "markdown",
   "metadata": {},
   "source": [
    "This is way better (although not as good as with a single features) -- there is a catch, of course (and we will mention that later)."
   ]
  },
  {
   "cell_type": "markdown",
   "metadata": {},
   "source": [
    "We can try and search for the best $\\alpha$ values.\n",
    "\n",
    "Rember that this kind of meta-learning (or hyper-parameter tuning) should always be done via a separate validation set, or alternatively by using cross-validation. We will use the latter:"
   ]
  },
  {
   "cell_type": "code",
   "execution_count": 34,
   "metadata": {},
   "outputs": [
    {
     "name": "stdout",
     "output_type": "stream",
     "text": [
      "Best alpha: 0.040526\n"
     ]
    }
   ],
   "source": [
    "from sklearn.model_selection import cross_val_score\n",
    "\n",
    "bestalpha, bestscore = None, None\n",
    "for alpha in np.linspace(0.01, 0.3, 20):\n",
    "    model2 = linear_model.Lasso(alpha=alpha)\n",
    "    scores = cross_val_score(model2, x_train, y_train, cv=10)\n",
    "    score = scores.mean()\n",
    "    if bestalpha is None or bestscore < score:\n",
    "        bestalpha = alpha\n",
    "        bestscore = score\n",
    "print('Best alpha: %f' % bestalpha)"
   ]
  },
  {
   "cell_type": "code",
   "execution_count": 35,
   "metadata": {},
   "outputs": [
    {
     "name": "stdout",
     "output_type": "stream",
     "text": [
      "std, training set (model): 1.005142\n",
      "std, test set (model): 1.103224\n",
      "MAE, training set (model): 0.345584\n",
      "MAE, test set (model): 0.404594\n",
      "R2, training set (model): 0.793455\n",
      "R2, test set (model): 0.780411\n"
     ]
    }
   ],
   "source": [
    "model2 = linear_model.Lasso(alpha=bestalpha)\n",
    "model2.fit(x_train, y_train)\n",
    "\n",
    "pred_train2 = model2.predict(x_train)\n",
    "pred_test2 = model2.predict(x_test)\n",
    "\n",
    "mae_train2 = metrics.mean_absolute_error(y_train, pred_train2)\n",
    "r2_train2 = metrics.r2_score(y_train, pred_train2)\n",
    "\n",
    "mae_test2 = metrics.mean_absolute_error(y_test, pred_test2)\n",
    "r2_test2 = metrics.r2_score(y_test, pred_test2)\n",
    "\n",
    "print('std, training set (model): %f' % (y_train.std()))\n",
    "print('std, test set (model): %f' % (y_test.std()))\n",
    "print('MAE, training set (model): %f' % (mae_train2))\n",
    "print('MAE, test set (model): %f' % (mae_test2))\n",
    "print('R2, training set (model): %f' % (r2_train2))\n",
    "print('R2, test set (model): %f' % (r2_test2))"
   ]
  },
  {
   "cell_type": "markdown",
   "metadata": {},
   "source": [
    "We could try to improve the results by enforcing a bit of smoothing, via an ElasticNet:"
   ]
  },
  {
   "cell_type": "code",
   "execution_count": 36,
   "metadata": {},
   "outputs": [
    {
     "name": "stdout",
     "output_type": "stream",
     "text": [
      "std, training set (model): 1.005142\n",
      "std, test set (model): 1.103224\n",
      "MAE, training set (model): 0.349298\n",
      "MAE, test set (model): 0.406179\n",
      "R2, training set (model): 0.789102\n",
      "R2, test set (model): 0.778860\n"
     ]
    }
   ],
   "source": [
    "model3 = linear_model.ElasticNet(alpha=0.05, l1_ratio=0.9)\n",
    "model3.fit(x_train, y_train)\n",
    "\n",
    "pred_train3 = model3.predict(x_train)\n",
    "pred_test3 = model3.predict(x_test)\n",
    "\n",
    "mae_train3 = metrics.mean_absolute_error(y_train, pred_train3)\n",
    "r2_train3 = metrics.r2_score(y_train, pred_train3)\n",
    "\n",
    "mae_test3 = metrics.mean_absolute_error(y_test, pred_test3)\n",
    "r2_test3 = metrics.r2_score(y_test, pred_test3)\n",
    "\n",
    "print('std, training set (model): %f' % (y_train.std()))\n",
    "print('std, test set (model): %f' % (y_test.std()))\n",
    "print('MAE, training set (model): %f' % (mae_train3))\n",
    "print('MAE, test set (model): %f' % (mae_test3))\n",
    "print('R2, training set (model): %f' % (r2_train3))\n",
    "print('R2, test set (model): %f' % (r2_test3))"
   ]
  },
  {
   "cell_type": "markdown",
   "metadata": {},
   "source": [
    "Now we need to optimize two distinct values:"
   ]
  },
  {
   "cell_type": "code",
   "execution_count": 39,
   "metadata": {},
   "outputs": [
    {
     "name": "stdout",
     "output_type": "stream",
     "text": [
      "Best alpha: 0.050000\n",
      "Best l1_ratio: 0.900000\n"
     ]
    }
   ],
   "source": [
    "from sklearn.model_selection import cross_val_score\n",
    "\n",
    "bestalpha, bestratio, bestscore = None, None, None\n",
    "for alpha in np.linspace(0.05, 0.3, 20):\n",
    "    for ratio in np.linspace(0.05, 1, 20):\n",
    "        model3 = linear_model.ElasticNet(alpha=alpha, l1_ratio=ratio)\n",
    "        #model3.fit(x_train, y_train)\n",
    "        #pred_test3 = model3.predict(x_test)\n",
    "        #score = metrics.r2_score(y_test, pred_test3)\n",
    "        scores = cross_val_score(model3, x_train, y_train, cv=10)\n",
    "        score = scores.mean()\n",
    "        if bestalpha is None or bestscore < score:\n",
    "            bestalpha = alpha\n",
    "            bestratio = ratio\n",
    "            bestscore = score\n",
    "print('Best alpha: %f' % bestalpha)\n",
    "print('Best l1_ratio: %f' % bestratio)"
   ]
  },
  {
   "cell_type": "markdown",
   "metadata": {},
   "source": [
    "And here are the corresponding results:"
   ]
  },
  {
   "cell_type": "code",
   "execution_count": 40,
   "metadata": {},
   "outputs": [
    {
     "name": "stdout",
     "output_type": "stream",
     "text": [
      "std, training set (model): 1.005142\n",
      "std, test set (model): 1.103224\n",
      "MAE, training set (model): 0.349298\n",
      "MAE, test set (model): 0.406179\n",
      "R2, training set (model): 0.789102\n",
      "R2, test set (model): 0.778860\n"
     ]
    }
   ],
   "source": [
    "model3 = linear_model.ElasticNet(alpha=bestalpha, l1_ratio=bestratio)\n",
    "model3.fit(x_train, y_train)\n",
    "\n",
    "pred_train3 = model3.predict(x_train)\n",
    "pred_test3 = model3.predict(x_test)\n",
    "\n",
    "mae_train3 = metrics.mean_absolute_error(y_train, pred_train3)\n",
    "r2_train3 = metrics.r2_score(y_train, pred_train3)\n",
    "\n",
    "mae_test3 = metrics.mean_absolute_error(y_test, pred_test3)\n",
    "r2_test3 = metrics.r2_score(y_test, pred_test3)\n",
    "\n",
    "print('std, training set (model): %f' % (y_train.std()))\n",
    "print('std, test set (model): %f' % (y_test.std()))\n",
    "print('MAE, training set (model): %f' % (mae_train3))\n",
    "print('MAE, test set (model): %f' % (mae_test3))\n",
    "print('R2, training set (model): %f' % (r2_train3))\n",
    "print('R2, test set (model): %f' % (r2_test3))"
   ]
  },
  {
   "cell_type": "markdown",
   "metadata": {},
   "source": [
    "Not a big improvement"
   ]
  },
  {
   "cell_type": "markdown",
   "metadata": {},
   "source": [
    "An interesting alternative consists in using the Lasso model to perform feature selection:"
   ]
  },
  {
   "cell_type": "code",
   "execution_count": 41,
   "metadata": {},
   "outputs": [
    {
     "data": {
      "image/png": "[encoded data removed]",
      "text/plain": [
       "<Figure size 720x720 with 1 Axes>"
      ]
     },
     "metadata": {
      "needs_background": "light"
     },
     "output_type": "display_data"
    }
   ],
   "source": [
    "# Obtain the coefficients as a matrix\n",
    "cmatrix = model2.coef_.reshape((nsteps_in, -1))\n",
    "\n",
    "plt.figure(figsize=(10, 10))\n",
    "plt.pcolor(np.abs(cmatrix), cmap='YlOrBr')\n",
    "plt.xticks(0.5+np.arange(len(data.columns)), data.columns, rotation='vertical')\n",
    "plt.show()"
   ]
  },
  {
   "cell_type": "markdown",
   "metadata": {},
   "source": [
    "Let's rank the coefficients by decreasing absolute value:"
   ]
  },
  {
   "cell_type": "code",
   "execution_count": 43,
   "metadata": {},
   "outputs": [],
   "source": [
    "pairs = [(i, abs(c)) for i, c in enumerate(model2.coef_)]\n",
    "sorted_pairs = sorted(pairs, key=lambda p: -p[1])\n",
    "bestidx = [i for i, _ in sorted_pairs[:6]]"
   ]
  },
  {
   "cell_type": "code",
   "execution_count": 44,
   "metadata": {},
   "outputs": [
    {
     "name": "stdout",
     "output_type": "stream",
     "text": [
      "std, training set (model): 1.005142\n",
      "std, test set (model): 1.103224\n",
      "MAE, training set (model): 0.353113\n",
      "MAE, test set (model): 0.385470\n",
      "R2, training set (model): 0.778206\n",
      "R2, test set (model): 0.801402\n"
     ]
    }
   ],
   "source": [
    "x_train2 = x_train[:, bestidx]\n",
    "x_test2 = x_test[:, bestidx]\n",
    "\n",
    "model4 = linear_model.LinearRegression()\n",
    "model4.fit(x_train2, y_train)\n",
    "\n",
    "pred_train4 = model4.predict(x_train2)\n",
    "pred_test4 = model4.predict(x_test2)\n",
    "\n",
    "mae_train4 = metrics.mean_absolute_error(y_train, pred_train4)\n",
    "r2_train4 = metrics.r2_score(y_train, pred_train4)\n",
    "\n",
    "mae_test4 = metrics.mean_absolute_error(y_test, pred_test4)\n",
    "r2_test4 = metrics.r2_score(y_test, pred_test4)\n",
    "\n",
    "print('std, training set (model): %f' % (y_train.std()))\n",
    "print('std, test set (model): %f' % (y_test.std()))\n",
    "print('MAE, training set (model): %f' % (mae_train4))\n",
    "print('MAE, test set (model): %f' % (mae_test4))\n",
    "print('R2, training set (model): %f' % (r2_train4))\n",
    "print('R2, test set (model): %f' % (r2_test4))"
   ]
  },
  {
   "cell_type": "markdown",
   "metadata": {},
   "source": [
    "And we are doing considerably better.\n",
    "\n",
    "We may also have a look at how the new features are used:"
   ]
  },
  {
   "cell_type": "code",
   "execution_count": 46,
   "metadata": {},
   "outputs": [
    {
     "data": {
      "image/png": "[encoded data removed]",
      "text/plain": [
       "<Figure size 1080x288 with 1 Axes>"
      ]
     },
     "metadata": {
      "needs_background": "light"
     },
     "output_type": "display_data"
    }
   ],
   "source": [
    "plt.figure(figsize=(15, 4))\n",
    "plt.bar(range(len(model4.coef_[0])), model4.coef_[0])\n",
    "plt.show()"
   ]
  }
 ],
 "metadata": {
  "kernelspec": {
   "display_name": "Python 3",
   "language": "python",
   "name": "python3"
  },
  "language_info": {
   "codemirror_mode": {
    "name": "ipython",
    "version": 3
   },
   "file_extension": ".py",
   "mimetype": "text/x-python",
   "name": "python",
   "nbconvert_exporter": "python",
   "pygments_lexer": "ipython3",
   "version": "3.7.3"
  }
 },
 "nbformat": 4,
 "nbformat_minor": 2
}
