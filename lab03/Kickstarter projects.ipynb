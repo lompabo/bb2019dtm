{
 "cells": [
  {
   "cell_type": "code",
   "execution_count": 14,
   "metadata": {},
   "outputs": [
    {
     "data": {
      "text/html": [
       "<div>\n",
       "<style scoped>\n",
       "    .dataframe tbody tr th:only-of-type {\n",
       "        vertical-align: middle;\n",
       "    }\n",
       "\n",
       "    .dataframe tbody tr th {\n",
       "        vertical-align: top;\n",
       "    }\n",
       "\n",
       "    .dataframe thead th {\n",
       "        text-align: right;\n",
       "    }\n",
       "</style>\n",
       "<table border=\"1\" class=\"dataframe\">\n",
       "  <thead>\n",
       "    <tr style=\"text-align: right;\">\n",
       "      <th></th>\n",
       "      <th>name</th>\n",
       "      <th>category</th>\n",
       "      <th>usd_goal_real</th>\n",
       "      <th>duration</th>\n",
       "      <th>success</th>\n",
       "    </tr>\n",
       "  </thead>\n",
       "  <tbody>\n",
       "    <tr>\n",
       "      <th>154905</th>\n",
       "      <td>Tactical Laser Tag Arena</td>\n",
       "      <td>Architecture</td>\n",
       "      <td>50000.00</td>\n",
       "      <td>34</td>\n",
       "      <td>0.0</td>\n",
       "    </tr>\n",
       "    <tr>\n",
       "      <th>205034</th>\n",
       "      <td>Soak &amp; Go shower head cleaning cup</td>\n",
       "      <td>Product Design</td>\n",
       "      <td>21000.00</td>\n",
       "      <td>30</td>\n",
       "      <td>0.0</td>\n",
       "    </tr>\n",
       "    <tr>\n",
       "      <th>129412</th>\n",
       "      <td>Create your own high quality Revolo, unique an...</td>\n",
       "      <td>Product Design</td>\n",
       "      <td>27884.98</td>\n",
       "      <td>29</td>\n",
       "      <td>1.0</td>\n",
       "    </tr>\n",
       "    <tr>\n",
       "      <th>372633</th>\n",
       "      <td>Tundra Title Belt</td>\n",
       "      <td>Product Design</td>\n",
       "      <td>1200.00</td>\n",
       "      <td>59</td>\n",
       "      <td>0.0</td>\n",
       "    </tr>\n",
       "    <tr>\n",
       "      <th>263539</th>\n",
       "      <td>The Most Tactical Baby Carrier and Diaper Pack...</td>\n",
       "      <td>Product Design</td>\n",
       "      <td>30000.00</td>\n",
       "      <td>34</td>\n",
       "      <td>0.0</td>\n",
       "    </tr>\n",
       "  </tbody>\n",
       "</table>\n",
       "</div>"
      ],
      "text/plain": [
       "                                                     name        category  \\\n",
       "154905                           Tactical Laser Tag Arena    Architecture   \n",
       "205034                 Soak & Go shower head cleaning cup  Product Design   \n",
       "129412  Create your own high quality Revolo, unique an...  Product Design   \n",
       "372633                                  Tundra Title Belt  Product Design   \n",
       "263539  The Most Tactical Baby Carrier and Diaper Pack...  Product Design   \n",
       "\n",
       "        usd_goal_real  duration  success  \n",
       "154905       50000.00        34      0.0  \n",
       "205034       21000.00        30      0.0  \n",
       "129412       27884.98        29      1.0  \n",
       "372633        1200.00        59      0.0  \n",
       "263539       30000.00        34      0.0  "
      ]
     },
     "execution_count": 14,
     "metadata": {},
     "output_type": "execute_result"
    }
   ],
   "source": [
    "%matplotlib inline\n",
    "\n",
    "#\n",
    "# REQUIRED FOR THIS NOTEBOOK:\n",
    "# pip3 install prince\n",
    "#\n",
    "\n",
    "import numpy as np\n",
    "import pandas as pd\n",
    "from matplotlib import pyplot as plt\n",
    "from matplotlib import cm\n",
    "from sklearn.preprocessing import StandardScaler, LabelEncoder, OneHotEncoder\n",
    "from datetime import datetime\n",
    "\n",
    "# Read data\n",
    "data = pd.read_csv('resources/ks-projects-201801.csv')\n",
    "# Focus on a specific main category\n",
    "data = data[data['main_category'] == 'Design']\n",
    "# Random subsampling\n",
    "np.random.seed(42)\n",
    "idx = np.random.choice(np.arange(len(data)), 2000, replace=False)\n",
    "data = data.iloc[idx]\n",
    "# Compute campaing duration\n",
    "data['launched'] = pd.to_datetime(data['launched'])\n",
    "data['deadline'] = pd.to_datetime(data['deadline'])\n",
    "data['duration'] = (data['deadline'] - data['launched']).dt.days\n",
    "# Compute success state\n",
    "data['success'] = (data['state'] == 'successful').astype(float)\n",
    "# Select a subset of the columns\n",
    "data = data[['name', 'category', 'usd_goal_real', 'duration', 'success']]\n",
    "# Category as... a category\n",
    "data['category'] = data['category'].astype('category')\n",
    "data.head()"
   ]
  },
  {
   "cell_type": "code",
   "execution_count": 15,
   "metadata": {
    "scrolled": false
   },
   "outputs": [],
   "source": [
    "# Apply MCA to categorical data\n",
    "import prince\n",
    "\n",
    "mca = prince.MCA(n_components=2)\n",
    "Xcat = mca.fit_transform(data[['category']])"
   ]
  },
  {
   "cell_type": "code",
   "execution_count": 11,
   "metadata": {},
   "outputs": [
    {
     "data": {
      "text/plain": [
       "(3000, 4)"
      ]
     },
     "execution_count": 11,
     "metadata": {},
     "output_type": "execute_result"
    }
   ],
   "source": [
    "# Obtain a combined dataset\n",
    "Xreal = data[['usd_goal_real', 'duration']]\n",
    "X = np.hstack([Xreal, Xcat])\n",
    "X.shape"
   ]
  },
  {
   "cell_type": "code",
   "execution_count": 12,
   "metadata": {},
   "outputs": [],
   "source": [
    "# Scale all data\n",
    "scaler = StandardScaler()\n",
    "X = scaler.fit_transform(X)"
   ]
  },
  {
   "cell_type": "code",
   "execution_count": 13,
   "metadata": {
    "scrolled": false
   },
   "outputs": [
    {
     "data": {
      "image/png": "[encoded data removed]",
      "text/plain": [
       "<Figure size 1080x432 with 1 Axes>"
      ]
     },
     "metadata": {},
     "output_type": "display_data"
    },
    {
     "name": "stdout",
     "output_type": "stream",
     "text": [
      "CLUSTER 0 (2760 items)\n",
      "usd_goal_real    30992.578185\n",
      "duration            34.064493\n",
      "success              0.352174\n",
      "dtype: float64\n",
      "Architecture          0.027899\n",
      "Civic Design          0.007971\n",
      "Design                0.153623\n",
      "Graphic Design        0.000000\n",
      "Interactive Design    0.000000\n",
      "Product Design        0.806522\n",
      "Typography            0.003986\n",
      "dtype: float64\n",
      "==================================================\n",
      "CLUSTER 1 (1 items)\n",
      "usd_goal_real    22327409.13\n",
      "duration               59.00\n",
      "success                 0.00\n",
      "dtype: float64\n",
      "Architecture          1.0\n",
      "Civic Design          0.0\n",
      "Design                0.0\n",
      "Graphic Design        0.0\n",
      "Interactive Design    0.0\n",
      "Product Design        0.0\n",
      "Typography            0.0\n",
      "dtype: float64\n",
      "==================================================\n",
      "CLUSTER 2 (40 items)\n",
      "usd_goal_real    31712.29825\n",
      "duration            33.95000\n",
      "success              0.27500\n",
      "dtype: float64\n",
      "Architecture          0.0\n",
      "Civic Design          0.0\n",
      "Design                0.0\n",
      "Graphic Design        0.0\n",
      "Interactive Design    1.0\n",
      "Product Design        0.0\n",
      "Typography            0.0\n",
      "dtype: float64\n",
      "==================================================\n",
      "CLUSTER 3 (199 items)\n",
      "usd_goal_real    7236.643166\n",
      "duration           30.055276\n",
      "success             0.402010\n",
      "dtype: float64\n",
      "Architecture          0.0\n",
      "Civic Design          0.0\n",
      "Design                0.0\n",
      "Graphic Design        1.0\n",
      "Interactive Design    0.0\n",
      "Product Design        0.0\n",
      "Typography            0.0\n",
      "dtype: float64\n",
      "==================================================\n"
     ]
    }
   ],
   "source": [
    "from sklearn.cluster import KMeans\n",
    "from sklearn.decomposition import PCA\n",
    "\n",
    "# Build a clustering object\n",
    "cls = KMeans(4)\n",
    "# Train\n",
    "cls.fit(X)\n",
    "# Find cluster for each data point\n",
    "y = cls.labels_\n",
    "\n",
    "# Dimensionality reduction to allow visualization\n",
    "pca = PCA(2)\n",
    "Xred = pca.fit_transform(X)\n",
    "Cred = pca.transform(cls.cluster_centers_)\n",
    "\n",
    "# Display results (scatter)\n",
    "plt.figure(figsize=(15, 6))\n",
    "plt.scatter(Xred[:, 0], Xred[:, 1], marker='+', c=cm.Set2(y))\n",
    "plt.scatter(Cred[:, 0], Cred[:, 1])\n",
    "plt.show()\n",
    "\n",
    "# Show statistcs for each cluster\n",
    "cat = pd.get_dummies(data['category'])\n",
    "clusters = np.unique(y)\n",
    "for c in clusters:\n",
    "    print('CLUSTER %d (%d items)' % (c, len(data[y == c])))\n",
    "    print(data[y == c].mean(axis=0))\n",
    "    print(cat[y == c].mean(axis=0))\n",
    "    print('=' * 50)"
   ]
  },
  {
   "cell_type": "code",
   "execution_count": null,
   "metadata": {},
   "outputs": [],
   "source": []
  }
 ],
 "metadata": {
  "kernelspec": {
   "display_name": "Python 3",
   "language": "python",
   "name": "python3"
  },
  "language_info": {
   "codemirror_mode": {
    "name": "ipython",
    "version": 3
   },
   "file_extension": ".py",
   "mimetype": "text/x-python",
   "name": "python",
   "nbconvert_exporter": "python",
   "pygments_lexer": "ipython3",
   "version": "3.6.5"
  }
 },
 "nbformat": 4,
 "nbformat_minor": 2
}
